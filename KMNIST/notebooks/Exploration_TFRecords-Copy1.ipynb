{
 "cells": [
  {
   "cell_type": "code",
   "execution_count": 1,
   "metadata": {},
   "outputs": [],
   "source": [
    "import os\n",
    "import tensorflow as tf\n",
    "#tf.enable_eager_execution()"
   ]
  },
  {
   "cell_type": "code",
   "execution_count": 2,
   "metadata": {},
   "outputs": [],
   "source": [
    "dataset_tfrecords = tf.data.TFRecordDataset('../data/kmnist_train.tfrecord')"
   ]
  },
  {
   "cell_type": "code",
   "execution_count": 3,
   "metadata": {},
   "outputs": [
    {
     "name": "stdout",
     "output_type": "stream",
     "text": [
      "tf.Tensor(b'\\n\\xc6\\x06\\n\\x0e\\n\\x05label\\x12\\x05\\x1a\\x03\\n\\x01\\x03\\n\\xb3\\x06\\n\\timage_raw\\x12\\xa5\\x06\\n\\xa2\\x06\\n\\x9f\\x06\\x08\\x04\\x12\\x08\\x12\\x02\\x08\\x1c\\x12\\x02\\x08\\x1c\"\\x90\\x06\\x00\\x00\\x00\\x00\\x00\\x00\\x00\\x00\\x00\\x00\\x00\\x00\\x00\\x02\\xad\\xfc\\xf6w\\x02\\x00\\x00\\x00\\x00\\x00\\x00\\x00\\x00\\x00\\x00\\x00\\x00\\x00\\x00\\x00\\x00\\x00\\x00\\x00\\x00\\x00\\x13\\x9b\\xff\\xf2J\\x02\\x00\\x00\\x00\\x00\\x00\\x00\\x00\\x00\\x00\\x00\\x00\\x00\\x00\\x00\\x00\\x00\\x00\\x00\\x00\\x00\\x00\\x01\\x9a\\xff\\xe14\\x01\\x00\\x00\\x00\\x00\\x00\\x00\\x00\\x00\\x00\\x00\\x00\\x00\\x00\\x00\\x00\\x00\\x00\\x00\\x00\\x00\\x00\\x00l\\xed\\xf9]\\x00\\x00\\x00\\x00\\x00\\x00\\x00\\x00\\x00\\x00\\x00\\x00\\x00\\x00\\x00\\x00\\x00\\x00\\x00\\x00\\x00\\x00\\x00\\x1d\\xd0\\xfdk\\x02\\x00\\x00\\x00\\x00\\x00\\x00\\x00\\x00\\x00\\x00\\x00\\x00\\x00\\x00\\x00\\x00\\x00\\x00\\x00\\x00\\x00\\x01N\\xc8\\xe9\\x9d\\x04\\x00\\x00\\x00\\x00\\x00\\x00\\x00\\x00\\x00\\x00\\x00\\x00\\x00\\x00\\x00\\x00\\x00\\x00\\x00\\x00\\x00\\x00\\x1d\\xe5\\xfd\\x92\\x05\\x00\\x00\\x00\\x00\\x07\\t\\x00\\x00\\x00\\x00\\x00\\x00\\x00\\x00\\x00\\x00\\x00\\x00\\x00\\x00\\x00\\x00\\x1d\\xc7\\xc5\\xba\\x0c\\x00\\x00\\x00\\x00 \\xd6\\xd44\\x01\\x00\\x00\\x00\\x00\\x00\\x00\\x00\\x00\\x00\\x00\\x00\\x00\\x00\\x03\\x9f\\xfa\\xff\\x98\\x00\\x00\\x00\\x02i\\xe4\\xfd\\xfe\\xe9\\x8f\\x14\\x00\\x00\\x00\\x00\\x00\\x00\\x00\\x00\\x00\\x00\\x00\\x0c1\\x92\\xf2\\xff\\x9e\\x00\\x00j\\xbf\\xf7\\xf6\\xea\\xff\\xbe\\xe6\\xb7*\\x00\\x00\\x00\\x00\\x00\\x00\\x00\\x00\\x00\\x11u\\xf5\\x85K\\xe2\\xdfj_\\xe2\\xff\\xff\\xfe\\xb5\\x84\\x12\\x0f1\\xbc\\x0f\\x00\\x00\\x00\\x00\\x00\\x00\\x00\\x1c\\xd4\\xd6\\xf4\\x7f\\x04?\\xf2\\xff\\xff\\xff\\xff\\xf8\\xae\\x0f\\x00\\x00\\x00\\x00x\\xa1\\x08\\x00\\x00\\x00\\x00\\x00\\x04\\x90\\xe5\\xec\\xd9\\x13\\x00\\x018\\xdf\\xff\\xfc\\x85-\\x05\\x00\\x00\\x00\\x00\\x00w\\xfcJ\\x00\\x00\\x00\\x00\\x00 \\xe8\\xff\\xff\\xba\\x03\\x00\\x00\\x00E\\xa8K\\x00\\x00\\x00\\x00\\x00\\x00\\x00\\x00\\x18\\xeb\\x96\\x01\\x00\\x00\\x00\\x00>\\xb9\\xf9\\xa6%\\x00\\x00\\x00\\x00\\x00\\x00\\x00\\x00\\x00\\x00\\x00\\x00\\x00\\x00\\x00\\x00m\\xc4W\\x00\\x00\\x00\\x00\\'\\xcbrY\\x00\\x00\\x00\\x00\\x00\\x00\\x00\\x00\\x00\\x00\\x00\\x00\\x00\\x00\\x00\\x00\\n\\x9edD\\x00\\x00\\x00\\x00\\x03\\xa0\\xdc>\\x00\\x00\\x00\\x00\\x00\\x00\\x00\\x00\\x00\\x00\\x00\\x00\\x00\\x00\\x00\\x00\\x1e\\xec\\xb4\\xa3\\x00\\x00\\x00\\x00\\x00o\\\\\\x02\\x00\\x00\\x00\\x00\\x00\\x00\\x00\\x00\\x00\\x00\\x00\\x00\\x00\\x00\\x00\\x00n\\xf7\\xb1f\\x00\\x00\\x00\\x00\\x00\\x12\\x18\\x00\\x00\\x00\\x00\\x00\\x00\\x00\\x00\\x00\\x00\\x00\\x00\\x00\\x00\\x00\\x00\\x00\\x8a\\xfe\\xdfP\\x00\\x00\\x00\\x00\\x00\\x00\\x00\\x00\\x00\\x00\\x00\\x00\\x00\\x00\\x00\\x00\\x00\\x00\\x00\\x00\\x00\\x00\\x007\\xd3\\xec;\\x17\\x00\\x00\\x00\\x00\\x00\\x00\\x00\\x00\\x00\\x00\\x00\\x00\\x00\\x00\\x00\\x00\\x00\\x00\\x00\\x00\\x00\\x04s\\xbd\\xf4\\xc0\\x13\\x1b\\x00\\x00\\x00\\x00\\x00\\x00\\x00\\x00\\x00\\x00\\x00\\x00\\x00\\x00\\x00\\x00\\x00\\x00\\x00\\x00\\x02\\\\t\\xd8\\x90(\\x03\\x06\\x00\\x00\\x00\\x00\\x00\\x00\\x00\\x00\\x00\\x00\\x00\\x00\\x00\\x00\\x00\\x00\\x00\\x00\\x00\\x04\\xa5\\xfd\\x82\\xd2I\\x00\\x00\\x00\\x00\\x00\\x00\\x00\\x00\\x00\\x00\\x00\\x00\\x00\\x00\\x00\\x00\\x00\\x00\\x00\\x00\\x013\\x99\\xf6\\xfe\\xe0e\\x05\\x00\\x00\\x00\\x00\\x00\\x00\\x00\\x00\\x00\\x00\\x00\\x00\\x00\\x00\\x00\\x00\\x00\\x00\\x00\\x008\\xee\\xff\\xf6\\xd9<\\x00\\x00\\x00\\x00\\x00\\x00\\x00\\x00\\x00\\x00\\x00\\x00\\x00\\x00\\x00\\x00\\x00\\x00\\x00\\x00\\x05L\\xe9\\xff\\xfd\\xa4\\x1f\\x00\\x00\\x00\\x00\\x00\\x00\\x00\\x00\\x00\\x00\\x00\\x00\\x00\\x00\\x00\\x00\\x00\\x00\\x00\\x00\\x087\\xe6\\xff\\xf8\\xa0\\x06\\x00\\x00\\x00\\x00\\x00\\x00\\x00\\x00\\x00\\x00\\x00\\x00\\x00\\x00\\x00\\x00\\x00\\x00\\x00\\x04U\\xe2\\xe8\\xfc\\xb7\\x18\\x02\\x00\\x00\\x00\\x00\\x00\\x00\\x00\\x00\\x00\\x00', shape=(), dtype=string)\n"
     ]
    }
   ],
   "source": [
    "for element in dataset_tfrecords.take(1):\n",
    "    print(element)"
   ]
  },
  {
   "cell_type": "code",
   "execution_count": 9,
   "metadata": {},
   "outputs": [],
   "source": [
    "def parse_features(kmnist_ds):\n",
    " def _transform_img(img_dict):\n",
    "     image = tf.io.parse_tensor(img_dict[\"image_raw\"], tf.uint8)\n",
    "     return dict(\n",
    "         image = tf.reshape(image, [28, 28]) ,\n",
    "         label = img_dict[\"label\"]\n",
    "     )\n"
   ]
  },
  {
   "cell_type": "code",
   "execution_count": 10,
   "metadata": {},
   "outputs": [],
   "source": [
    "def _parse_function(example_proto):\n",
    "  # Parse the input tf.Example proto using the dictionary below.\n",
    "    feature_description = {\n",
    "        'label': tf.io.FixedLenFeature([], tf.int64, default_value=0),\n",
    "        'image_raw': tf.io.FixedLenFeature([], tf.string, default_value=''),\n",
    "    }\n",
    "    return tf.io.parse_single_example(example_proto, feature_description)"
   ]
  },
  {
   "cell_type": "code",
   "execution_count": 11,
   "metadata": {},
   "outputs": [],
   "source": [
    "dataset_intermedio = dataset_tfrecords.map(_parse_function)"
   ]
  },
  {
   "cell_type": "code",
   "execution_count": 12,
   "metadata": {},
   "outputs": [
    {
     "name": "stdout",
     "output_type": "stream",
     "text": [
      "{'image_raw': <tf.Tensor: shape=(), dtype=string, numpy=b'\\x08\\x04\\x12\\x08\\x12\\x02\\x08\\x1c\\x12\\x02\\x08\\x1c\"\\x90\\x06\\x00\\x00\\x00\\x00\\x00\\x00\\x00\\x00\\x00\\x00\\x00\\x00\\x00\\x02\\xad\\xfc\\xf6w\\x02\\x00\\x00\\x00\\x00\\x00\\x00\\x00\\x00\\x00\\x00\\x00\\x00\\x00\\x00\\x00\\x00\\x00\\x00\\x00\\x00\\x00\\x13\\x9b\\xff\\xf2J\\x02\\x00\\x00\\x00\\x00\\x00\\x00\\x00\\x00\\x00\\x00\\x00\\x00\\x00\\x00\\x00\\x00\\x00\\x00\\x00\\x00\\x00\\x01\\x9a\\xff\\xe14\\x01\\x00\\x00\\x00\\x00\\x00\\x00\\x00\\x00\\x00\\x00\\x00\\x00\\x00\\x00\\x00\\x00\\x00\\x00\\x00\\x00\\x00\\x00l\\xed\\xf9]\\x00\\x00\\x00\\x00\\x00\\x00\\x00\\x00\\x00\\x00\\x00\\x00\\x00\\x00\\x00\\x00\\x00\\x00\\x00\\x00\\x00\\x00\\x00\\x1d\\xd0\\xfdk\\x02\\x00\\x00\\x00\\x00\\x00\\x00\\x00\\x00\\x00\\x00\\x00\\x00\\x00\\x00\\x00\\x00\\x00\\x00\\x00\\x00\\x00\\x01N\\xc8\\xe9\\x9d\\x04\\x00\\x00\\x00\\x00\\x00\\x00\\x00\\x00\\x00\\x00\\x00\\x00\\x00\\x00\\x00\\x00\\x00\\x00\\x00\\x00\\x00\\x00\\x1d\\xe5\\xfd\\x92\\x05\\x00\\x00\\x00\\x00\\x07\\t\\x00\\x00\\x00\\x00\\x00\\x00\\x00\\x00\\x00\\x00\\x00\\x00\\x00\\x00\\x00\\x00\\x1d\\xc7\\xc5\\xba\\x0c\\x00\\x00\\x00\\x00 \\xd6\\xd44\\x01\\x00\\x00\\x00\\x00\\x00\\x00\\x00\\x00\\x00\\x00\\x00\\x00\\x00\\x03\\x9f\\xfa\\xff\\x98\\x00\\x00\\x00\\x02i\\xe4\\xfd\\xfe\\xe9\\x8f\\x14\\x00\\x00\\x00\\x00\\x00\\x00\\x00\\x00\\x00\\x00\\x00\\x0c1\\x92\\xf2\\xff\\x9e\\x00\\x00j\\xbf\\xf7\\xf6\\xea\\xff\\xbe\\xe6\\xb7*\\x00\\x00\\x00\\x00\\x00\\x00\\x00\\x00\\x00\\x11u\\xf5\\x85K\\xe2\\xdfj_\\xe2\\xff\\xff\\xfe\\xb5\\x84\\x12\\x0f1\\xbc\\x0f\\x00\\x00\\x00\\x00\\x00\\x00\\x00\\x1c\\xd4\\xd6\\xf4\\x7f\\x04?\\xf2\\xff\\xff\\xff\\xff\\xf8\\xae\\x0f\\x00\\x00\\x00\\x00x\\xa1\\x08\\x00\\x00\\x00\\x00\\x00\\x04\\x90\\xe5\\xec\\xd9\\x13\\x00\\x018\\xdf\\xff\\xfc\\x85-\\x05\\x00\\x00\\x00\\x00\\x00w\\xfcJ\\x00\\x00\\x00\\x00\\x00 \\xe8\\xff\\xff\\xba\\x03\\x00\\x00\\x00E\\xa8K\\x00\\x00\\x00\\x00\\x00\\x00\\x00\\x00\\x18\\xeb\\x96\\x01\\x00\\x00\\x00\\x00>\\xb9\\xf9\\xa6%\\x00\\x00\\x00\\x00\\x00\\x00\\x00\\x00\\x00\\x00\\x00\\x00\\x00\\x00\\x00\\x00m\\xc4W\\x00\\x00\\x00\\x00\\'\\xcbrY\\x00\\x00\\x00\\x00\\x00\\x00\\x00\\x00\\x00\\x00\\x00\\x00\\x00\\x00\\x00\\x00\\n\\x9edD\\x00\\x00\\x00\\x00\\x03\\xa0\\xdc>\\x00\\x00\\x00\\x00\\x00\\x00\\x00\\x00\\x00\\x00\\x00\\x00\\x00\\x00\\x00\\x00\\x1e\\xec\\xb4\\xa3\\x00\\x00\\x00\\x00\\x00o\\\\\\x02\\x00\\x00\\x00\\x00\\x00\\x00\\x00\\x00\\x00\\x00\\x00\\x00\\x00\\x00\\x00\\x00n\\xf7\\xb1f\\x00\\x00\\x00\\x00\\x00\\x12\\x18\\x00\\x00\\x00\\x00\\x00\\x00\\x00\\x00\\x00\\x00\\x00\\x00\\x00\\x00\\x00\\x00\\x00\\x8a\\xfe\\xdfP\\x00\\x00\\x00\\x00\\x00\\x00\\x00\\x00\\x00\\x00\\x00\\x00\\x00\\x00\\x00\\x00\\x00\\x00\\x00\\x00\\x00\\x00\\x007\\xd3\\xec;\\x17\\x00\\x00\\x00\\x00\\x00\\x00\\x00\\x00\\x00\\x00\\x00\\x00\\x00\\x00\\x00\\x00\\x00\\x00\\x00\\x00\\x00\\x04s\\xbd\\xf4\\xc0\\x13\\x1b\\x00\\x00\\x00\\x00\\x00\\x00\\x00\\x00\\x00\\x00\\x00\\x00\\x00\\x00\\x00\\x00\\x00\\x00\\x00\\x00\\x02\\\\t\\xd8\\x90(\\x03\\x06\\x00\\x00\\x00\\x00\\x00\\x00\\x00\\x00\\x00\\x00\\x00\\x00\\x00\\x00\\x00\\x00\\x00\\x00\\x00\\x04\\xa5\\xfd\\x82\\xd2I\\x00\\x00\\x00\\x00\\x00\\x00\\x00\\x00\\x00\\x00\\x00\\x00\\x00\\x00\\x00\\x00\\x00\\x00\\x00\\x00\\x013\\x99\\xf6\\xfe\\xe0e\\x05\\x00\\x00\\x00\\x00\\x00\\x00\\x00\\x00\\x00\\x00\\x00\\x00\\x00\\x00\\x00\\x00\\x00\\x00\\x00\\x008\\xee\\xff\\xf6\\xd9<\\x00\\x00\\x00\\x00\\x00\\x00\\x00\\x00\\x00\\x00\\x00\\x00\\x00\\x00\\x00\\x00\\x00\\x00\\x00\\x00\\x05L\\xe9\\xff\\xfd\\xa4\\x1f\\x00\\x00\\x00\\x00\\x00\\x00\\x00\\x00\\x00\\x00\\x00\\x00\\x00\\x00\\x00\\x00\\x00\\x00\\x00\\x00\\x087\\xe6\\xff\\xf8\\xa0\\x06\\x00\\x00\\x00\\x00\\x00\\x00\\x00\\x00\\x00\\x00\\x00\\x00\\x00\\x00\\x00\\x00\\x00\\x00\\x00\\x04U\\xe2\\xe8\\xfc\\xb7\\x18\\x02\\x00\\x00\\x00\\x00\\x00\\x00\\x00\\x00\\x00\\x00'>, 'label': <tf.Tensor: shape=(), dtype=int64, numpy=3>}\n"
     ]
    }
   ],
   "source": [
    "for elem in dataset_intermedio.take(1):\n",
    "    print(elem)"
   ]
  },
  {
   "cell_type": "code",
   "execution_count": 13,
   "metadata": {},
   "outputs": [],
   "source": [
    "def _transform_img(img_dict):\n",
    " image = tf.io.parse_tensor(img_dict[\"image_raw\"], tf.uint8)\n",
    " return dict(\n",
    "     image = tf.reshape(image, [28, 28]) ,\n",
    "     label = img_dict[\"label\"]\n",
    " )"
   ]
  },
  {
   "cell_type": "code",
   "execution_count": 14,
   "metadata": {},
   "outputs": [],
   "source": [
    "dataset_final = dataset_intermedio.map(_transform_img)"
   ]
  },
  {
   "cell_type": "code",
   "execution_count": 15,
   "metadata": {},
   "outputs": [
    {
     "name": "stdout",
     "output_type": "stream",
     "text": [
      "{'image': <tf.Tensor: shape=(28, 28), dtype=uint8, numpy=\n",
      "array([[  0,   0,   0,   0,   0,   0,   0,   0,   0,   0,   0,   0,   0,\n",
      "          2, 173, 252, 246, 119,   2,   0,   0,   0,   0,   0,   0,   0,\n",
      "          0,   0],\n",
      "       [  0,   0,   0,   0,   0,   0,   0,   0,   0,   0,   0,   0,  19,\n",
      "        155, 255, 242,  74,   2,   0,   0,   0,   0,   0,   0,   0,   0,\n",
      "          0,   0],\n",
      "       [  0,   0,   0,   0,   0,   0,   0,   0,   0,   0,   0,   1, 154,\n",
      "        255, 225,  52,   1,   0,   0,   0,   0,   0,   0,   0,   0,   0,\n",
      "          0,   0],\n",
      "       [  0,   0,   0,   0,   0,   0,   0,   0,   0,   0,   0, 108, 237,\n",
      "        249,  93,   0,   0,   0,   0,   0,   0,   0,   0,   0,   0,   0,\n",
      "          0,   0],\n",
      "       [  0,   0,   0,   0,   0,   0,   0,   0,   0,   0,  29, 208, 253,\n",
      "        107,   2,   0,   0,   0,   0,   0,   0,   0,   0,   0,   0,   0,\n",
      "          0,   0],\n",
      "       [  0,   0,   0,   0,   0,   0,   0,   0,   1,  78, 200, 233, 157,\n",
      "          4,   0,   0,   0,   0,   0,   0,   0,   0,   0,   0,   0,   0,\n",
      "          0,   0],\n",
      "       [  0,   0,   0,   0,   0,   0,   0,   0,  29, 229, 253, 146,   5,\n",
      "          0,   0,   0,   0,   7,   9,   0,   0,   0,   0,   0,   0,   0,\n",
      "          0,   0],\n",
      "       [  0,   0,   0,   0,   0,   0,   0,  29, 199, 197, 186,  12,   0,\n",
      "          0,   0,   0,  32, 214, 212,  52,   1,   0,   0,   0,   0,   0,\n",
      "          0,   0],\n",
      "       [  0,   0,   0,   0,   0,   0,   3, 159, 250, 255, 152,   0,   0,\n",
      "          0,   2, 105, 228, 253, 254, 233, 143,  20,   0,   0,   0,   0,\n",
      "          0,   0],\n",
      "       [  0,   0,   0,   0,   0,  12,  49, 146, 242, 255, 158,   0,   0,\n",
      "        106, 191, 247, 246, 234, 255, 190, 230, 183,  42,   0,   0,   0,\n",
      "          0,   0],\n",
      "       [  0,   0,   0,   0,  17, 117, 245, 133,  75, 226, 223, 106,  95,\n",
      "        226, 255, 255, 254, 181, 132,  18,  15,  49, 188,  15,   0,   0,\n",
      "          0,   0],\n",
      "       [  0,   0,   0,  28, 212, 214, 244, 127,   4,  63, 242, 255, 255,\n",
      "        255, 255, 248, 174,  15,   0,   0,   0,   0, 120, 161,   8,   0,\n",
      "          0,   0],\n",
      "       [  0,   0,   4, 144, 229, 236, 217,  19,   0,   1,  56, 223, 255,\n",
      "        252, 133,  45,   5,   0,   0,   0,   0,   0, 119, 252,  74,   0,\n",
      "          0,   0],\n",
      "       [  0,   0,  32, 232, 255, 255, 186,   3,   0,   0,   0,  69, 168,\n",
      "         75,   0,   0,   0,   0,   0,   0,   0,   0,  24, 235, 150,   1,\n",
      "          0,   0],\n",
      "       [  0,   0,  62, 185, 249, 166,  37,   0,   0,   0,   0,   0,   0,\n",
      "          0,   0,   0,   0,   0,   0,   0,   0,   0,   0, 109, 196,  87,\n",
      "          0,   0],\n",
      "       [  0,   0,  39, 203, 114,  89,   0,   0,   0,   0,   0,   0,   0,\n",
      "          0,   0,   0,   0,   0,   0,   0,   0,   0,  10, 158, 100,  68,\n",
      "          0,   0],\n",
      "       [  0,   0,   3, 160, 220,  62,   0,   0,   0,   0,   0,   0,   0,\n",
      "          0,   0,   0,   0,   0,   0,   0,   0,   0,  30, 236, 180, 163,\n",
      "          0,   0],\n",
      "       [  0,   0,   0, 111,  92,   2,   0,   0,   0,   0,   0,   0,   0,\n",
      "          0,   0,   0,   0,   0,   0,   0,   0,   0, 110, 247, 177, 102,\n",
      "          0,   0],\n",
      "       [  0,   0,   0,  18,  24,   0,   0,   0,   0,   0,   0,   0,   0,\n",
      "          0,   0,   0,   0,   0,   0,   0,   0,   0, 138, 254, 223,  80,\n",
      "          0,   0],\n",
      "       [  0,   0,   0,   0,   0,   0,   0,   0,   0,   0,   0,   0,   0,\n",
      "          0,   0,   0,   0,   0,   0,   0,   0,  55, 211, 236,  59,  23,\n",
      "          0,   0],\n",
      "       [  0,   0,   0,   0,   0,   0,   0,   0,   0,   0,   0,   0,   0,\n",
      "          0,   0,   0,   0,   0,   0,   4, 115, 189, 244, 192,  19,  27,\n",
      "          0,   0],\n",
      "       [  0,   0,   0,   0,   0,   0,   0,   0,   0,   0,   0,   0,   0,\n",
      "          0,   0,   0,   0,   0,   2,  92, 116, 216, 144,  40,   3,   6,\n",
      "          0,   0],\n",
      "       [  0,   0,   0,   0,   0,   0,   0,   0,   0,   0,   0,   0,   0,\n",
      "          0,   0,   0,   0,   4, 165, 253, 130, 210,  73,   0,   0,   0,\n",
      "          0,   0],\n",
      "       [  0,   0,   0,   0,   0,   0,   0,   0,   0,   0,   0,   0,   0,\n",
      "          0,   0,   1,  51, 153, 246, 254, 224, 101,   5,   0,   0,   0,\n",
      "          0,   0],\n",
      "       [  0,   0,   0,   0,   0,   0,   0,   0,   0,   0,   0,   0,   0,\n",
      "          0,   0,  56, 238, 255, 246, 217,  60,   0,   0,   0,   0,   0,\n",
      "          0,   0],\n",
      "       [  0,   0,   0,   0,   0,   0,   0,   0,   0,   0,   0,   0,   0,\n",
      "          5,  76, 233, 255, 253, 164,  31,   0,   0,   0,   0,   0,   0,\n",
      "          0,   0],\n",
      "       [  0,   0,   0,   0,   0,   0,   0,   0,   0,   0,   0,   0,   8,\n",
      "         55, 230, 255, 248, 160,   6,   0,   0,   0,   0,   0,   0,   0,\n",
      "          0,   0],\n",
      "       [  0,   0,   0,   0,   0,   0,   0,   0,   0,   0,   4,  85, 226,\n",
      "        232, 252, 183,  24,   2,   0,   0,   0,   0,   0,   0,   0,   0,\n",
      "          0,   0]], dtype=uint8)>, 'label': <tf.Tensor: shape=(), dtype=int64, numpy=3>}\n"
     ]
    }
   ],
   "source": [
    "for ele in dataset_final.take(1):\n",
    "    print(ele)"
   ]
  },
  {
   "cell_type": "code",
   "execution_count": 16,
   "metadata": {},
   "outputs": [
    {
     "data": {
      "image/png": "[encoded data removed]",
      "text/plain": [
       "<Figure size 432x288 with 1 Axes>"
      ]
     },
     "metadata": {
      "needs_background": "light"
     },
     "output_type": "display_data"
    }
   ],
   "source": [
    "import matplotlib.pyplot as plt\n",
    "for elem in dataset_final.take(1):\n",
    "    plt.imshow(elem['image'])"
   ]
  },
  {
   "cell_type": "code",
   "execution_count": 17,
   "metadata": {},
   "outputs": [],
   "source": [
    "def parse_tfrecords(tensor_string):\n",
    "    feature_description = {\n",
    "        'label': tf.io.FixedLenFeature([], tf.int64, default_value=0),\n",
    "        'image_raw': tf.io.FixedLenFeature([], tf.string, default_value=''),\n",
    "    }\n",
    "    img_dic = tf.io.parse_single_example(tensor_string, feature_description)\n",
    "    \n",
    "    img_bytes = tf.io.parse_tensor(img_dic[\"image_raw\"], tf.uint8)\n",
    "    label = img_dic['label']\n",
    "    image = tf.reshape(img_bytes, [28, 28])\n",
    "    return {'image': image, 'label':label}"
   ]
  },
  {
   "cell_type": "code",
   "execution_count": 18,
   "metadata": {},
   "outputs": [],
   "source": [
    "kminst_train_ds = tf.data.TFRecordDataset('../data/kmnist_train.tfrecord')\n",
    "train_ds = kminst_train_ds.map(parse_tfrecords)"
   ]
  },
  {
   "cell_type": "code",
   "execution_count": 19,
   "metadata": {},
   "outputs": [
    {
     "data": {
      "text/plain": [
       "<MapDataset shapes: {image: (28, 28), label: ()}, types: {image: tf.uint8, label: tf.int64}>"
      ]
     },
     "execution_count": 19,
     "metadata": {},
     "output_type": "execute_result"
    }
   ],
   "source": [
    "train_ds"
   ]
  },
  {
   "cell_type": "code",
   "execution_count": 20,
   "metadata": {},
   "outputs": [
    {
     "data": {
      "image/png": "[encoded data removed]",
      "text/plain": [
       "<Figure size 432x288 with 1 Axes>"
      ]
     },
     "metadata": {
      "needs_background": "light"
     },
     "output_type": "display_data"
    }
   ],
   "source": [
    "for ele in train_ds.take(1):\n",
    "    plt.imshow(ele['image'])"
   ]
  },
  {
   "cell_type": "code",
   "execution_count": null,
   "metadata": {},
   "outputs": [],
   "source": []
  }
 ],
 "metadata": {
  "kernelspec": {
   "display_name": "Python 3",
   "language": "python",
   "name": "python3"
  },
  "language_info": {
   "codemirror_mode": {
    "name": "ipython",
    "version": 3
   },
   "file_extension": ".py",
   "mimetype": "text/x-python",
   "name": "python",
   "nbconvert_exporter": "python",
   "pygments_lexer": "ipython3",
   "version": "3.6.9"
  }
 },
 "nbformat": 4,
 "nbformat_minor": 2
}
