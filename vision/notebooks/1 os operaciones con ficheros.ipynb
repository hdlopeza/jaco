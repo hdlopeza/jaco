{
 "cells": [
  {
   "cell_type": "code",
   "execution_count": 4,
   "metadata": {},
   "outputs": [
    {
     "name": "stdout",
     "output_type": "stream",
     "text": [
      "Path at terminal when executing this file\n",
      "/vision/notebooks\n",
      "\n",
      "This file full path (following symlinks)\n",
      "This file directory and name\n",
      "This file directory only\n"
     ]
    }
   ],
   "source": [
    "import os\n",
    "\n",
    "print(\"Path at terminal when executing this file\")\n",
    "print(os.getcwd() + \"\\n\")\n",
    "\n",
    "#print(\"This file path, relative to os.getcwd()\")\n",
    "#print(__file__ + \"\\n\")\n",
    "\n",
    "print(\"This file full path (following symlinks)\")\n",
    "#full_path = os.path.realpath(__file__)\n",
    "#print(full_path + \"\\n\")\n",
    "\n",
    "print(\"This file directory and name\")\n",
    "#path, filename = os.path.split(full_path)\n",
    "#print(path + ' --> ' + filename + \"\\n\")\n",
    "\n",
    "print(\"This file directory only\")\n",
    "#print(os.path.dirname(full_path))"
   ]
  },
  {
   "cell_type": "code",
   "execution_count": null,
   "metadata": {},
   "outputs": [],
   "source": []
  }
 ],
 "metadata": {
  "kernelspec": {
   "display_name": "Python 3",
   "language": "python",
   "name": "python3"
  },
  "language_info": {
   "codemirror_mode": {
    "name": "ipython",
    "version": 3
   },
   "file_extension": ".py",
   "mimetype": "text/x-python",
   "name": "python",
   "nbconvert_exporter": "python",
   "pygments_lexer": "ipython3",
   "version": "3.6.9"
  }
 },
 "nbformat": 4,
 "nbformat_minor": 4
}
