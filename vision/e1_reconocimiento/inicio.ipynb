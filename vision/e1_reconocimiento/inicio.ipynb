{
 "cells": [
  {
   "cell_type": "code",
   "execution_count": null,
   "metadata": {},
   "outputs": [],
   "source": [
    "import tensorflow.compat.v2 as tf\n",
    "from object_detection import model_lib_v2\n",
    "\n",
    "from google.protobuf import text_format\n",
    "from object_detection import exporter_lib_v2\n",
    "from object_detection.protos import pipeline_pb2\n",
    "tf.enable_v2_behavior()"
   ]
  },
  {
   "cell_type": "markdown",
   "metadata": {},
   "source": [
    "# Ejecución de entrenamiento"
   ]
  },
  {
   "cell_type": "markdown",
   "metadata": {},
   "source": [
    "El comando en linea es\n",
    "\n",
    "python model_main_tf2.py --model_dir=models/efficientdet_d0 --pipeline_config_path=models/efficientdet_d0/pipeline.config"
   ]
  },
  {
   "cell_type": "code",
   "execution_count": null,
   "metadata": {},
   "outputs": [],
   "source": [
    "strategy = tf.compat.v2.distribute.MirroredStrategy()\n",
    "with strategy.scope():\n",
    "    model_lib_v2.train_loop(\n",
    "        pipeline_config_path='models/efficientdet_d0/pipeline.config',\n",
    "        model_dir='models/efficientdet_d0')\n"
   ]
  },
  {
   "cell_type": "markdown",
   "metadata": {},
   "source": [
    "## Exportar el modelo"
   ]
  },
  {
   "cell_type": "markdown",
   "metadata": {},
   "source": [
    "El comando en linea es \n",
    "\n",
    "python ./exporter_main_v2.py --input_type image_tensor --pipeline_config_path ./models/my_ssd_resnet50_v1_fpn/pipeline.config --trained_checkpoint_dir ./models/my_ssd_resnet50_v1_fpn/ --output_directory ./exported-models/my_model"
   ]
  },
  {
   "cell_type": "code",
   "execution_count": null,
   "metadata": {},
   "outputs": [],
   "source": [
    "pipeline_config = pipeline_pb2.TrainEvalPipelineConfig()\n",
    "with tf.io.gfile.GFile('./models/efficientdet_d0/pipeline.config', 'r') as f:\n",
    "    text_format.Merge(f.read(), pipeline_config)\n",
    "text_format.Merge('', pipeline_config)\n",
    "exporter_lib_v2.export_inference_graph(\n",
    "    'image_tensor', pipeline_config, './models/efficientdet_d0/',\n",
    "    './exported-models/my_model')"
   ]
  }
 ],
 "metadata": {
  "interpreter": {
   "hash": "5e6bcf0dc35489532d37c80db7bd4e07c0bf84a97096b4598895c9e5ba002dd3"
  },
  "kernelspec": {
   "display_name": "Python 3.9.7 64-bit ('tensorflow': conda)",
   "name": "python3"
  },
  "language_info": {
   "codemirror_mode": {
    "name": "ipython",
    "version": 3
   },
   "file_extension": ".py",
   "mimetype": "text/x-python",
   "name": "python",
   "nbconvert_exporter": "python",
   "pygments_lexer": "ipython3",
   "version": "3.9.7"
  },
  "orig_nbformat": 4
 },
 "nbformat": 4,
 "nbformat_minor": 2
}
