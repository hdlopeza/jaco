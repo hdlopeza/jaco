{
 "cells": [
  {
   "cell_type": "code",
   "execution_count": null,
   "source": [
    "#https://www.tensorflow.org/hub/tutorials/object_detection\r\n",
    "import os\r\n",
    "\r\n",
    "# For running inference on the TF-Hub module.\r\n",
    "import tensorflow as tf\r\n",
    "\r\n",
    "#pip install --upgrade tensorflow-hub\r\n",
    "import tensorflow_hub as hub\r\n",
    "\r\n",
    "# For downloading the image.\r\n",
    "import matplotlib.pyplot as plt\r\n",
    "import tempfile\r\n",
    "from six.moves.urllib.request import urlopen\r\n",
    "from six import BytesIO\r\n",
    "\r\n",
    "# For drawing onto the image.\r\n",
    "import numpy as np\r\n",
    "from PIL import Image\r\n",
    "from PIL import ImageColor\r\n",
    "from PIL import ImageDraw\r\n",
    "from PIL import ImageFont\r\n",
    "from PIL import ImageOps\r\n",
    "\r\n",
    "# For measuring the inference time.\r\n",
    "import time\r\n",
    "\r\n",
    "# Print Tensorflow version\r\n",
    "print(tf.__version__)\r\n",
    "\r\n",
    "# Check available GPU devices.\r\n",
    "print(\"The following GPU devices are available: %s\" % tf.test.gpu_device_name())"
   ],
   "outputs": [],
   "metadata": {}
  },
  {
   "cell_type": "code",
   "execution_count": null,
   "source": [
    "#Modulo de utils\r\n",
    "def display_image(image):\r\n",
    "  fig = plt.figure(figsize=(20, 15))\r\n",
    "  plt.grid(False)\r\n",
    "  plt.imshow(image)\r\n",
    "\r\n",
    "\r\n",
    "def download_and_resize_image(url, new_width=256, new_height=256,\r\n",
    "                              display=False):\r\n",
    "  _, filename = tempfile.mkstemp(suffix=\".jpg\")\r\n",
    "  response = urlopen(url)\r\n",
    "  image_data = response.read()\r\n",
    "  image_data = BytesIO(image_data)\r\n",
    "  pil_image = Image.open(image_data)\r\n",
    "  pil_image = ImageOps.fit(pil_image, (new_width, new_height), Image.ANTIALIAS)\r\n",
    "  pil_image_rgb = pil_image.convert(\"RGB\")\r\n",
    "  pil_image_rgb.save(filename, format=\"JPEG\", quality=90)\r\n",
    "  print(\"Image downloaded to %s.\" % filename)\r\n",
    "  if display:\r\n",
    "    display_image(pil_image)\r\n",
    "  return filename\r\n",
    "\r\n",
    "\r\n",
    "def draw_bounding_box_on_image(image,\r\n",
    "                               ymin,\r\n",
    "                               xmin,\r\n",
    "                               ymax,\r\n",
    "                               xmax,\r\n",
    "                               color,\r\n",
    "                               font,\r\n",
    "                               thickness=4,\r\n",
    "                               display_str_list=()):\r\n",
    "  \"\"\"Adds a bounding box to an image.\"\"\"\r\n",
    "  draw = ImageDraw.Draw(image)\r\n",
    "  im_width, im_height = image.size\r\n",
    "  (left, right, top, bottom) = (xmin * im_width, xmax * im_width,\r\n",
    "                                ymin * im_height, ymax * im_height)\r\n",
    "  draw.line([(left, top), (left, bottom), (right, bottom), (right, top),\r\n",
    "             (left, top)],\r\n",
    "            width=thickness,\r\n",
    "            fill=color)\r\n",
    "\r\n",
    "  # If the total height of the display strings added to the top of the bounding\r\n",
    "  # box exceeds the top of the image, stack the strings below the bounding box\r\n",
    "  # instead of above.\r\n",
    "  display_str_heights = [font.getsize(ds)[1] for ds in display_str_list]\r\n",
    "  # Each display_str has a top and bottom margin of 0.05x.\r\n",
    "  total_display_str_height = (1 + 2 * 0.05) * sum(display_str_heights)\r\n",
    "\r\n",
    "  if top > total_display_str_height:\r\n",
    "    text_bottom = top\r\n",
    "  else:\r\n",
    "    text_bottom = top + total_display_str_height\r\n",
    "  # Reverse list and print from bottom to top.\r\n",
    "  for display_str in display_str_list[::-1]:\r\n",
    "    text_width, text_height = font.getsize(display_str)\r\n",
    "    margin = np.ceil(0.05 * text_height)\r\n",
    "    draw.rectangle([(left, text_bottom - text_height - 2 * margin),\r\n",
    "                    (left + text_width, text_bottom)],\r\n",
    "                   fill=color)\r\n",
    "    draw.text((left + margin, text_bottom - text_height - margin),\r\n",
    "              display_str,\r\n",
    "              fill=\"black\",\r\n",
    "              font=font)\r\n",
    "    text_bottom -= text_height - 2 * margin\r\n",
    "\r\n",
    "\r\n",
    "def draw_boxes(image, boxes, class_names, scores, max_boxes=10, min_score=0.1):\r\n",
    "  \"\"\"Overlay labeled boxes on an image with formatted scores and label names.\"\"\"\r\n",
    "  colors = list(ImageColor.colormap.values())\r\n",
    "\r\n",
    "  try:\r\n",
    "    font = ImageFont.truetype(\"/usr/share/fonts/truetype/liberation/LiberationSansNarrow-Regular.ttf\",\r\n",
    "                              25)\r\n",
    "  except IOError:\r\n",
    "    print(\"Font not found, using default font.\")\r\n",
    "    font = ImageFont.load_default()\r\n",
    "\r\n",
    "  for i in range(min(boxes.shape[0], max_boxes)):\r\n",
    "    if scores[i] >= min_score:\r\n",
    "      ymin, xmin, ymax, xmax = tuple(boxes[i])\r\n",
    "      display_str = \"{}: {}%\".format(class_names[i].decode(\"ascii\"),\r\n",
    "                                     int(100 * scores[i]))\r\n",
    "      color = colors[hash(class_names[i]) % len(colors)]\r\n",
    "      image_pil = Image.fromarray(np.uint8(image)).convert(\"RGB\")\r\n",
    "      draw_bounding_box_on_image(\r\n",
    "          image_pil,\r\n",
    "          ymin,\r\n",
    "          xmin,\r\n",
    "          ymax,\r\n",
    "          xmax,\r\n",
    "          color,\r\n",
    "          font,\r\n",
    "          display_str_list=[display_str])\r\n",
    "      np.copyto(image, np.array(image_pil))\r\n",
    "  return image"
   ],
   "outputs": [],
   "metadata": {}
  },
  {
   "cell_type": "code",
   "execution_count": null,
   "source": [
    "image_url = \"https://upload.wikimedia.org/wikipedia/commons/6/60/Naxos_Taverna.jpg\" \r\n",
    "downloaded_image_path = download_and_resize_image(image_url, 1280, 856, True)"
   ],
   "outputs": [],
   "metadata": {}
  },
  {
   "cell_type": "code",
   "execution_count": null,
   "source": [
    "#module_handle = \"https://tfhub.dev/google/faster_rcnn/openimages_v4/inception_resnet_v2/1\"\r\n",
    "#module_handle = \"https://tfhub.dev/google/openimages_v4/ssd/mobilenet_v2/1\"\r\n",
    "#detector = hub.load(module_handle).signatures['default']\r\n",
    "\r\n",
    "detector = hub.load(os.path.join('dnn')).signatures['default']"
   ],
   "outputs": [],
   "metadata": {}
  },
  {
   "cell_type": "code",
   "execution_count": null,
   "source": [
    "def load_img(path):\r\n",
    "  img = tf.io.read_file(path)\r\n",
    "  img = tf.image.decode_jpeg(img, channels=3)\r\n",
    "  return img"
   ],
   "outputs": [],
   "metadata": {}
  },
  {
   "cell_type": "code",
   "execution_count": null,
   "source": [
    "def run_detector(detector, path):\r\n",
    "  img = load_img(path)\r\n",
    "\r\n",
    "  converted_img  = tf.image.convert_image_dtype(img, tf.float32)[tf.newaxis, ...]\r\n",
    "  start_time = time.time()\r\n",
    "  result = detector(converted_img)\r\n",
    "  end_time = time.time()\r\n",
    "\r\n",
    "  result = {key:value.numpy() for key,value in result.items()}\r\n",
    "\r\n",
    "  print(\"Found %d objects.\" % len(result[\"detection_scores\"]))\r\n",
    "  print(\"Inference time: \", end_time-start_time)\r\n",
    "\r\n",
    "  image_with_boxes = draw_boxes(\r\n",
    "      img.numpy(), result[\"detection_boxes\"],\r\n",
    "      result[\"detection_class_entities\"], result[\"detection_scores\"])\r\n",
    "\r\n",
    "  display_image(image_with_boxes)"
   ],
   "outputs": [],
   "metadata": {}
  },
  {
   "cell_type": "code",
   "execution_count": null,
   "source": [
    "run_detector(detector, downloaded_image_path)"
   ],
   "outputs": [],
   "metadata": {}
  },
  {
   "cell_type": "code",
   "execution_count": null,
   "source": [
    "image_urls = [\r\n",
    "  # Source: https://commons.wikimedia.org/wiki/File:The_Coleoptera_of_the_British_islands_(Plate_125)_(8592917784).jpg\r\n",
    "  \"https://upload.wikimedia.org/wikipedia/commons/1/1b/The_Coleoptera_of_the_British_islands_%28Plate_125%29_%288592917784%29.jpg\",\r\n",
    "  # By Américo Toledano, Source: https://commons.wikimedia.org/wiki/File:Biblioteca_Maim%C3%B3nides,_Campus_Universitario_de_Rabanales_007.jpg\r\n",
    "  \"https://upload.wikimedia.org/wikipedia/commons/thumb/0/0d/Biblioteca_Maim%C3%B3nides%2C_Campus_Universitario_de_Rabanales_007.jpg/1024px-Biblioteca_Maim%C3%B3nides%2C_Campus_Universitario_de_Rabanales_007.jpg\",\r\n",
    "  # Source: https://commons.wikimedia.org/wiki/File:The_smaller_British_birds_(8053836633).jpg\r\n",
    "  \"https://upload.wikimedia.org/wikipedia/commons/0/09/The_smaller_British_birds_%288053836633%29.jpg\",\r\n",
    "  ]\r\n",
    "\r\n",
    "def detect_img(image_url):\r\n",
    "  start_time = time.time()\r\n",
    "  #image_path = download_and_resize_image(image_url, 640, 480)\r\n",
    "  image_path = download_and_resize_image(image_url, 1280, 856)\r\n",
    "  run_detector(detector, image_path)\r\n",
    "  end_time = time.time()\r\n",
    "  print(\"Inference time:\",end_time-start_time)"
   ],
   "outputs": [],
   "metadata": {}
  },
  {
   "cell_type": "code",
   "execution_count": null,
   "source": [
    "detect_img(image_urls[1])"
   ],
   "outputs": [],
   "metadata": {}
  },
  {
   "cell_type": "code",
   "execution_count": null,
   "source": [
    "a = detector(tf.image.convert_image_dtype(load_img(downloaded_image_path), tf.float32)[tf.newaxis, ...])"
   ],
   "outputs": [],
   "metadata": {}
  },
  {
   "cell_type": "code",
   "execution_count": null,
   "source": [
    "a[\"detection_boxes\"]"
   ],
   "outputs": [],
   "metadata": {}
  }
 ],
 "metadata": {
  "kernelspec": {
   "name": "python3",
   "display_name": "Python 3.8.8 64-bit ('vision': conda)"
  },
  "language_info": {
   "codemirror_mode": {
    "name": "ipython",
    "version": 3
   },
   "file_extension": ".py",
   "mimetype": "text/x-python",
   "name": "python",
   "nbconvert_exporter": "python",
   "pygments_lexer": "ipython3",
   "version": "3.8.8"
  },
  "interpreter": {
   "hash": "d1148bede7848eda71f951362ac80fc2b88416172af078d38f5a7d3b0503dc81"
  }
 },
 "nbformat": 4,
 "nbformat_minor": 2
}