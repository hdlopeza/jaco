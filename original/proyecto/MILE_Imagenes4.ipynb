{
  "nbformat": 4,
  "nbformat_minor": 0,
  "metadata": {
    "colab": {
      "name": "MILE.Imagenes4",
      "version": "0.3.2",
      "provenance": [],
      "collapsed_sections": [],
      "toc_visible": true
    },
    "kernelspec": {
      "name": "python3",
      "display_name": "Python 3"
    },
    "accelerator": "GPU"
  },
  "cells": [
    {
      "metadata": {
        "id": "C7WTKdnOCTBr",
        "colab_type": "code",
        "colab": {}
      },
      "cell_type": "code",
      "source": [
        "import os\n",
        "import pathlib\n",
        "import random\n",
        "import tensorflow as tf\n",
        "import tensorflow_hub as tfhub\n",
        "#tf.enable_eager_execution()"
      ],
      "execution_count": 0,
      "outputs": []
    },
    {
      "metadata": {
        "id": "pJjqwNTU9igJ",
        "colab_type": "code",
        "colab": {}
      },
      "cell_type": "code",
      "source": [
        "AUTOTUNE = tf.data.experimental.AUTOTUNE\n",
        "\n",
        "train_steps = 500 # Modelo Train\n",
        "summary_steps = 100 # Modelo Train\n",
        "steps_per_epoch = 100 # Modelo Train\n",
        "log_step = 10 # Modelo Train\n",
        "train_batch_size = 5 # Funciones de input train y eval\n",
        "BATCH_SIZE = 5 # dataset buffer y batch\n",
        "eval_delay_secs = 10 # Modelo Eval\n",
        "throttle_secs = 30 # Modelo Eval"
      ],
      "execution_count": 0,
      "outputs": []
    },
    {
      "metadata": {
        "id": "Xndr4SoKCoKg",
        "colab_type": "code",
        "colab": {}
      },
      "cell_type": "code",
      "source": [
        "tf.logging.info('TF Version {}'.format(tf.__version__))\n",
        "tf.logging.info('GPU Available {}'.format(tf.test.is_gpu_available()))\n",
        "if 'TF_CONFIG' in os.environ:\n",
        "    tf.logging.info('TF_CONFIG: {}'.format(os.environ[\"TF_CONFIG\"]))"
      ],
      "execution_count": 0,
      "outputs": []
    },
    {
      "metadata": {
        "id": "OfMTFRQebwpW",
        "colab_type": "text"
      },
      "cell_type": "markdown",
      "source": [
        "**Rutas**"
      ]
    },
    {
      "metadata": {
        "id": "cTvGHTsPbrhc",
        "colab_type": "code",
        "colab": {}
      },
      "cell_type": "code",
      "source": [
        "# Modelo general\n",
        "path_model = '/content/model/'\n",
        "os.makedirs(os.path.join(path_model), exist_ok=True)\n",
        "\n",
        "# Modelo entrenado\n",
        "path_trained = os.path.join(path_model, 'trained')\n",
        "\n",
        "# Modelo importado\n",
        "TFHUB_CACHE_DIR = os.path.join(path_model, 'TFHub')\n",
        "os.environ['TFHUB_CACHE_DIR'] = TFHUB_CACHE_DIR\n",
        "\n",
        "# Data importada\n",
        "path_data = os.path.join(path_model, 'dogscats')\n",
        "url_data = 'http://files.fast.ai/data/dogscats.zip'"
      ],
      "execution_count": 0,
      "outputs": []
    },
    {
      "metadata": {
        "id": "rsPvpfSzr8Jc",
        "colab_type": "text"
      },
      "cell_type": "markdown",
      "source": [
        "# Modelo importado\n",
        "**Importacion**"
      ]
    },
    {
      "metadata": {
        "id": "JQ6RhpC7Gstu",
        "colab_type": "code",
        "cellView": "code",
        "colab": {}
      },
      "cell_type": "code",
      "source": [
        "if not os.path.isdir(os.path.join(path_model, 'TFHub')):\n",
        "  classifier_url = \"https://tfhub.dev/google/imagenet/mobilenet_v2_100_224/feature_vector/2\" #@param {type:\"string\"}\n",
        "  tfh_module = tfhub.Module(classifier_url)"
      ],
      "execution_count": 0,
      "outputs": []
    },
    {
      "metadata": {
        "id": "eGIOpZtKb84r",
        "colab_type": "text"
      },
      "cell_type": "markdown",
      "source": [
        "**Variables derivadas**"
      ]
    },
    {
      "metadata": {
        "id": "tP5Oje0_cB1r",
        "colab_type": "code",
        "colab": {}
      },
      "cell_type": "code",
      "source": [
        "IMAGE_SIZE = tfhub.get_expected_image_size(tfh_module)"
      ],
      "execution_count": 0,
      "outputs": []
    },
    {
      "metadata": {
        "id": "bUGN4GRzQUWL",
        "colab_type": "text"
      },
      "cell_type": "markdown",
      "source": [
        "import shutil\n",
        "shutil.rmtree('/content/model/trained', ignore_errors=False, onerror=None)"
      ]
    },
    {
      "metadata": {
        "id": "XQuX7HjGsE0A",
        "colab_type": "text"
      },
      "cell_type": "markdown",
      "source": [
        "# Datos\n"
      ]
    },
    {
      "metadata": {
        "id": "__uDH3mWgzqe",
        "colab_type": "text"
      },
      "cell_type": "markdown",
      "source": [
        "## Adquisicion"
      ]
    },
    {
      "metadata": {
        "id": "Ts23GW9aC5U6",
        "colab_type": "code",
        "colab": {}
      },
      "cell_type": "code",
      "source": [
        "if not os.path.isdir(path_data):\n",
        "  tf.keras.utils.get_file(fname = os.path.basename(url_data), origin = url_data, \n",
        "                          cache_subdir=path_model, extract=True)"
      ],
      "execution_count": 0,
      "outputs": []
    },
    {
      "metadata": {
        "id": "0-7uql7brwyV",
        "colab_type": "text"
      },
      "cell_type": "markdown",
      "source": [
        "**Directorios de datos**"
      ]
    },
    {
      "metadata": {
        "id": "jzq0-cW9seeY",
        "colab_type": "code",
        "colab": {}
      },
      "cell_type": "code",
      "source": [
        "train_path = os.path.join(path_data, 'train')\n",
        "eval_path = os.path.join(path_data, 'valid')"
      ],
      "execution_count": 0,
      "outputs": []
    },
    {
      "metadata": {
        "id": "SAB72Jo4t61e",
        "colab_type": "text"
      },
      "cell_type": "markdown",
      "source": [
        "---\n",
        "For this output, you can connect additional layers according to the problem you want to solve. For example, if the problem is to classify images into 10 categories, you may want to continue fully connected-layer with 10 nodes, and apply the softmax function to have the probabilities.\n",
        "\n",
        "\n",
        "logits = tf.layers.dense(inputs=outputs, units=10)\n",
        "predictions = {\n",
        "    \"classes\": tf.argmax(input=logits, axis=1),\n",
        "    \"probabilities\": tf.nn.softmax(logits)\n",
        "}\n",
        "\n",
        "---\n",
        "train_input_fn = tf.data.Dataset.list_files(train_files)\n",
        "\n",
        "---\n",
        "label = tf.string_split(source = [train_files], delimiter = '/').values[-2]\n",
        "\n",
        "---\n",
        "from IPython.core.debugger import Tracer; Tracer()() \n",
        "n, c, q"
      ]
    },
    {
      "metadata": {
        "id": "Rf4wvxQnrtJF",
        "colab_type": "text"
      },
      "cell_type": "markdown",
      "source": [
        "# Dataset"
      ]
    },
    {
      "metadata": {
        "id": "0pehMuFNwI_m",
        "colab_type": "code",
        "colab": {}
      },
      "cell_type": "code",
      "source": [
        "def preprocess_image(image):\n",
        "  image = tf.image.decode_jpeg(image, channels=3) #<-------\n",
        "  image = tf.image.resize(image, [224, 224]) #<-------\n",
        "  image /= 255.0  # normalize to [0,1] range #<-------\n",
        "  return image"
      ],
      "execution_count": 0,
      "outputs": []
    },
    {
      "metadata": {
        "id": "-ULil4K9wN-r",
        "colab_type": "code",
        "colab": {}
      },
      "cell_type": "code",
      "source": [
        "def load_and_preprocess_image(path):\n",
        "  image = tf.read_file(path)\n",
        "  return preprocess_image(image)"
      ],
      "execution_count": 0,
      "outputs": []
    },
    {
      "metadata": {
        "id": "BgIrBdPSKisJ",
        "colab_type": "code",
        "colab": {}
      },
      "cell_type": "code",
      "source": [
        "def read_dataset(filename, tfr_file, mode, batch_size):  \n",
        "\n",
        "  data_root = pathlib.Path(filename)#<------- filename\n",
        "  all_image_paths = list(data_root.glob('*/*'))\n",
        "  all_image_paths = [str(path) for path in all_image_paths]\n",
        "  random.shuffle(all_image_paths)\n",
        "\n",
        "  if not os.path.isfile(tfr_file):    #<------- tfr_file\n",
        "    paths_ds = tf.data.Dataset.from_tensor_slices(all_image_paths)\n",
        "    image_ds = paths_ds.map(load_and_preprocess_image)\n",
        "    ds = image_ds.map(tf.serialize_tensor) \n",
        "    tfrec = tf.data.experimental.TFRecordWriter(tfr_file)#<------- tfr_file\n",
        "    tfrec.write(ds)\n",
        "\n",
        "  #Toma la ruta de las imagenes, la decodifica, crea el tensor de atributos\n",
        "  ds = tf.data.TFRecordDataset(tfr_file)\n",
        "  def parse(x):\n",
        "    result = tf.parse_tensor(x, out_type=tf.float32)\n",
        "    result = tf.reshape(result, [224, 224, 3]) #<-------\n",
        "    return result\n",
        "  ds = ds.map(parse, num_parallel_calls=AUTOTUNE)\n",
        "\n",
        "  label_names = sorted(item.name for item in data_root.glob('*/') if item.is_dir())\n",
        "  label_to_index = dict((name, index) for index,name in enumerate(label_names))\n",
        "  all_image_labels = [label_to_index[pathlib.Path(path).parent.name]for path in all_image_paths]\n",
        "  paths_ds = tf.data.Dataset.from_tensor_slices(all_image_paths)\n",
        "  image_ds = paths_ds.map(load_and_preprocess_image)\n",
        "  label_ds = tf.data.Dataset.from_tensor_slices(tf.cast(all_image_labels, tf.int64))\n",
        "  \n",
        "  ds = tf.data.Dataset.zip((image_ds, label_ds)) #<-------\n",
        "  \n",
        "  if mode == tf.estimator.ModeKeys.TRAIN:\n",
        "    num_epochs = None #Loop indefinidamente\n",
        "    ds = ds.shuffle(buffer_size = batch_size) # video 7:10 https://www.youtube.com/watch?v=uIcqeP7MFH0\n",
        "    ds = ds.apply(tf.data.experimental.shuffle_and_repeat(buffer_size=batch_size*10)) #image_count\n",
        "  else:\n",
        "    num_epochs = 1 #end-of-input after this\n",
        "  \n",
        "  ds = ds.batch(BATCH_SIZE).prefetch(AUTOTUNE) # video 7:48\n",
        "  return ds"
      ],
      "execution_count": 0,
      "outputs": []
    },
    {
      "metadata": {
        "id": "vBcgwKmDK1aC",
        "colab_type": "code",
        "colab": {}
      },
      "cell_type": "code",
      "source": [
        "def train_input_fn():\n",
        "  return read_dataset(filename = train_path,#<-------\n",
        "                      tfr_file = '/content/model/train.tfrec',\n",
        "                      batch_size = train_batch_size, \n",
        "                      mode = tf.estimator.ModeKeys.TRAIN)\n",
        "\n",
        "def eval_input_fn():\n",
        "  return read_dataset(filename = eval_path,#<-------\n",
        "                      tfr_file = '/content/model/eval.tfrec',\n",
        "                      batch_size = train_batch_size, \n",
        "                      mode = tf.estimator.ModeKeys.EVAL)\n",
        "\n",
        "def serving_input_fn():\n",
        "  json_feature_placeholders = {'images' : tf.placeholder(tf.float32, [None]),}\n",
        "  features = json_feature_placeholders\n",
        "  return tf.estimator.export.ServingInputReceiver(features, json_feature_placeholders)"
      ],
      "execution_count": 0,
      "outputs": []
    },
    {
      "metadata": {
        "id": "VbGjQ33fJeXj",
        "colab_type": "text"
      },
      "cell_type": "markdown",
      "source": [
        "# Modelo\n",
        "**Configuracion del modelo importado**"
      ]
    },
    {
      "metadata": {
        "id": "cOCKkRZx8pPr",
        "colab_type": "code",
        "colab": {}
      },
      "cell_type": "code",
      "source": [
        "def model_fn(features, labels, mode, params):\n",
        "  #module = hub.Module(\"https://tfhub.dev/google/imagenet/mobilenet_v2_050_192/feature_vector/2\")\n",
        "  #module = hub.Module(\"https://tfhub.dev/google/inaturalist/inception_v3/feature_vector/1\")\n",
        "  tfh_module=tfhub.Module(\"https://tfhub.dev/google/imagenet/mobilenet_v2_100_224/feature_vector/2\")\n",
        "  transformed_features = tfh_module(features)\n",
        "  logits = tf.layers.dense(transformed_features, 2) #<-------\n",
        "  probabilities = tf.nn.softmax(logits)\n",
        "  \n",
        "  if (mode != tf.estimator.ModeKeys.PREDICT):\n",
        "    one_hot_labels = tf.one_hot(labels, 2) #<-------\n",
        "    loss = tf.losses.softmax_cross_entropy(one_hot_labels, logits)\n",
        "    optimizer = tf.train.AdamOptimizer() \n",
        "    train_op = tf.contrib.training.create_train_op(loss, optimizer)\n",
        "    accuracy = tf.metrics.accuracy(labels, tf.argmax(probabilities, axis=-1))\n",
        "    metrics = {'acc':accuracy}\n",
        "  else:\n",
        "    # None of these can be computed in prediction mode because labels are not available\n",
        "    loss = optimizer = train_op = metrics = None\n",
        "  \n",
        "  return tf.estimator.EstimatorSpec(\n",
        "      mode=mode,\n",
        "      loss=loss,\n",
        "      train_op=train_op,\n",
        "      # Nice: in estimator, you can return computed results that are not part of model training (here: class)\n",
        "      predictions={'proba': probabilities, 'class': tf.argmax(probabilities, axis=-1)},\n",
        "      eval_metric_ops=metrics\n",
        "  )"
      ],
      "execution_count": 0,
      "outputs": []
    },
    {
      "metadata": {
        "id": "WPlZsHN78MEl",
        "colab_type": "text"
      },
      "cell_type": "markdown",
      "source": [
        "# Entrenamiento"
      ]
    },
    {
      "metadata": {
        "id": "wmkUyMDqJhHO",
        "colab_type": "code",
        "colab": {}
      },
      "cell_type": "code",
      "source": [
        "def train_and_evaluate(): #args\n",
        "  # Estimador del modelo a usar\n",
        "  run_config = tf.estimator.RunConfig(\n",
        "    model_dir = path_trained, #args['output_dir'],  Ouput directory for checkpoint\n",
        "    save_summary_steps = summary_steps, \n",
        "    save_checkpoints_steps = steps_per_epoch, #, save_checkpoints_step = 100\n",
        "    log_step_count_steps=log_step)\n",
        "\n",
        "  # Define los aspectos del modelo # ojo aqui esta el transfer learning\n",
        "  model = tf.estimator.Estimator(\n",
        "    model_fn = model_fn,\n",
        "    config = run_config)\n",
        "\n",
        "  # Define los aspectos del entrenamiento y la entrada de datos\n",
        "  train_spec = tf.estimator.TrainSpec(\n",
        "    input_fn = train_input_fn, \n",
        "    max_steps = train_steps) #args['train_steps']\n",
        "\n",
        "  # Define los aspectos del uso en produccion con ML Engine\n",
        "  export_latest = tf.estimator.LatestExporter(\n",
        "    'exporter', #folder to export\n",
        "    serving_input_receiver_fn = serving_input_fn)\n",
        "\n",
        "  # Define los aspectos de la evaluacion, cada cuanto se graba para tensorboard y la entrada de datos\n",
        "  eval_spec = tf.estimator.EvalSpec(\n",
        "    input_fn = eval_input_fn,\n",
        "    steps = None,\n",
        "    start_delay_secs = eval_delay_secs, # args['eval_delay_secs'] start evaluating after N seconds\n",
        "    throttle_secs = throttle_secs) #, args['throttle_secs'] evaluate every N seconds\n",
        "    #exporters = export_latest)\n",
        "\n",
        "  # Ejecuta el modelo\n",
        "  out = tf.estimator.train_and_evaluate(model, train_spec, eval_spec)\n",
        "  return out"
      ],
      "execution_count": 0,
      "outputs": []
    },
    {
      "metadata": {
        "id": "xo64AqHiBKOm",
        "colab_type": "code",
        "colab": {
          "base_uri": "https://localhost:8080/",
          "height": 5011
        },
        "outputId": "6448444e-ed37-4fd2-ff97-21a74bb85810"
      },
      "cell_type": "code",
      "source": [
        "import shutil \n",
        "shutil.rmtree('/content/model/trained', ignore_errors=False, onerror=None)\n",
        "\n",
        "trained_model = train_and_evaluate()\n",
        "print(trained_model)"
      ],
      "execution_count": 321,
      "outputs": [
        {
          "output_type": "stream",
          "text": [
            "INFO:tensorflow:Using config: {'_model_dir': '/content/model/trained', '_tf_random_seed': None, '_save_summary_steps': 100, '_save_checkpoints_steps': 100, '_save_checkpoints_secs': None, '_session_config': allow_soft_placement: true\n",
            "graph_options {\n",
            "  rewrite_options {\n",
            "    meta_optimizer_iterations: ONE\n",
            "  }\n",
            "}\n",
            ", '_keep_checkpoint_max': 5, '_keep_checkpoint_every_n_hours': 10000, '_log_step_count_steps': 10, '_train_distribute': None, '_device_fn': None, '_protocol': None, '_eval_distribute': None, '_experimental_distribute': None, '_service': None, '_cluster_spec': <tensorflow.python.training.server_lib.ClusterSpec object at 0x7fb79a9f1748>, '_task_type': 'worker', '_task_id': 0, '_global_id_in_cluster': 0, '_master': '', '_evaluation_master': '', '_is_chief': True, '_num_ps_replicas': 0, '_num_worker_replicas': 1}\n"
          ],
          "name": "stdout"
        },
        {
          "output_type": "stream",
          "text": [
            "I0428 05:03:09.330407 140433646442368 estimator.py:201] Using config: {'_model_dir': '/content/model/trained', '_tf_random_seed': None, '_save_summary_steps': 100, '_save_checkpoints_steps': 100, '_save_checkpoints_secs': None, '_session_config': allow_soft_placement: true\n",
            "graph_options {\n",
            "  rewrite_options {\n",
            "    meta_optimizer_iterations: ONE\n",
            "  }\n",
            "}\n",
            ", '_keep_checkpoint_max': 5, '_keep_checkpoint_every_n_hours': 10000, '_log_step_count_steps': 10, '_train_distribute': None, '_device_fn': None, '_protocol': None, '_eval_distribute': None, '_experimental_distribute': None, '_service': None, '_cluster_spec': <tensorflow.python.training.server_lib.ClusterSpec object at 0x7fb79a9f1748>, '_task_type': 'worker', '_task_id': 0, '_global_id_in_cluster': 0, '_master': '', '_evaluation_master': '', '_is_chief': True, '_num_ps_replicas': 0, '_num_worker_replicas': 1}\n"
          ],
          "name": "stderr"
        },
        {
          "output_type": "stream",
          "text": [
            "WARNING:tensorflow:Estimator's model_fn (<function model_fn at 0x7fb792856e18>) includes params argument, but params are not passed to Estimator.\n"
          ],
          "name": "stdout"
        },
        {
          "output_type": "stream",
          "text": [
            "W0428 05:03:09.332736 140433646442368 estimator.py:1924] Estimator's model_fn (<function model_fn at 0x7fb792856e18>) includes params argument, but params are not passed to Estimator.\n"
          ],
          "name": "stderr"
        },
        {
          "output_type": "stream",
          "text": [
            "INFO:tensorflow:Not using Distribute Coordinator.\n"
          ],
          "name": "stdout"
        },
        {
          "output_type": "stream",
          "text": [
            "I0428 05:03:09.338303 140433646442368 estimator_training.py:185] Not using Distribute Coordinator.\n"
          ],
          "name": "stderr"
        },
        {
          "output_type": "stream",
          "text": [
            "INFO:tensorflow:Running training and evaluation locally (non-distributed).\n"
          ],
          "name": "stdout"
        },
        {
          "output_type": "stream",
          "text": [
            "I0428 05:03:09.340589 140433646442368 training.py:610] Running training and evaluation locally (non-distributed).\n"
          ],
          "name": "stderr"
        },
        {
          "output_type": "stream",
          "text": [
            "INFO:tensorflow:Start train and evaluate loop. The evaluate will happen after every checkpoint. Checkpoint frequency is determined based on RunConfig arguments: save_checkpoints_steps 100 or save_checkpoints_secs None.\n"
          ],
          "name": "stdout"
        },
        {
          "output_type": "stream",
          "text": [
            "I0428 05:03:09.343474 140433646442368 training.py:698] Start train and evaluate loop. The evaluate will happen after every checkpoint. Checkpoint frequency is determined based on RunConfig arguments: save_checkpoints_steps 100 or save_checkpoints_secs None.\n"
          ],
          "name": "stderr"
        },
        {
          "output_type": "stream",
          "text": [
            "INFO:tensorflow:Calling model_fn.\n"
          ],
          "name": "stdout"
        },
        {
          "output_type": "stream",
          "text": [
            "I0428 05:03:09.943815 140433646442368 estimator.py:1111] Calling model_fn.\n"
          ],
          "name": "stderr"
        },
        {
          "output_type": "stream",
          "text": [
            "INFO:tensorflow:Saver not created because there are no variables in the graph to restore\n"
          ],
          "name": "stdout"
        },
        {
          "output_type": "stream",
          "text": [
            "I0428 05:03:12.593322 140433646442368 saver.py:1483] Saver not created because there are no variables in the graph to restore\n"
          ],
          "name": "stderr"
        },
        {
          "output_type": "stream",
          "text": [
            "INFO:tensorflow:Done calling model_fn.\n"
          ],
          "name": "stdout"
        },
        {
          "output_type": "stream",
          "text": [
            "I0428 05:03:12.886268 140433646442368 estimator.py:1113] Done calling model_fn.\n"
          ],
          "name": "stderr"
        },
        {
          "output_type": "stream",
          "text": [
            "INFO:tensorflow:Create CheckpointSaverHook.\n"
          ],
          "name": "stdout"
        },
        {
          "output_type": "stream",
          "text": [
            "I0428 05:03:12.890304 140433646442368 basic_session_run_hooks.py:527] Create CheckpointSaverHook.\n"
          ],
          "name": "stderr"
        },
        {
          "output_type": "stream",
          "text": [
            "INFO:tensorflow:Graph was finalized.\n"
          ],
          "name": "stdout"
        },
        {
          "output_type": "stream",
          "text": [
            "I0428 05:03:13.650618 140433646442368 monitored_session.py:222] Graph was finalized.\n"
          ],
          "name": "stderr"
        },
        {
          "output_type": "stream",
          "text": [
            "INFO:tensorflow:Running local_init_op.\n"
          ],
          "name": "stdout"
        },
        {
          "output_type": "stream",
          "text": [
            "I0428 05:03:14.631864 140433646442368 session_manager.py:491] Running local_init_op.\n"
          ],
          "name": "stderr"
        },
        {
          "output_type": "stream",
          "text": [
            "INFO:tensorflow:Done running local_init_op.\n"
          ],
          "name": "stdout"
        },
        {
          "output_type": "stream",
          "text": [
            "I0428 05:03:14.743062 140433646442368 session_manager.py:493] Done running local_init_op.\n"
          ],
          "name": "stderr"
        },
        {
          "output_type": "stream",
          "text": [
            "INFO:tensorflow:Saving checkpoints for 0 into /content/model/trained/model.ckpt.\n"
          ],
          "name": "stdout"
        },
        {
          "output_type": "stream",
          "text": [
            "I0428 05:03:19.079827 140433646442368 basic_session_run_hooks.py:594] Saving checkpoints for 0 into /content/model/trained/model.ckpt.\n"
          ],
          "name": "stderr"
        },
        {
          "output_type": "stream",
          "text": [
            "INFO:tensorflow:loss = 0.6904022, step = 0\n"
          ],
          "name": "stdout"
        },
        {
          "output_type": "stream",
          "text": [
            "I0428 05:03:20.501270 140433646442368 basic_session_run_hooks.py:249] loss = 0.6904022, step = 0\n"
          ],
          "name": "stderr"
        },
        {
          "output_type": "stream",
          "text": [
            "INFO:tensorflow:global_step/sec: 12.9971\n"
          ],
          "name": "stdout"
        },
        {
          "output_type": "stream",
          "text": [
            "I0428 05:03:21.270063 140433646442368 basic_session_run_hooks.py:680] global_step/sec: 12.9971\n"
          ],
          "name": "stderr"
        },
        {
          "output_type": "stream",
          "text": [
            "INFO:tensorflow:loss = 0.13975498, step = 10 (0.772 sec)\n"
          ],
          "name": "stdout"
        },
        {
          "output_type": "stream",
          "text": [
            "I0428 05:03:21.273483 140433646442368 basic_session_run_hooks.py:247] loss = 0.13975498, step = 10 (0.772 sec)\n"
          ],
          "name": "stderr"
        },
        {
          "output_type": "stream",
          "text": [
            "INFO:tensorflow:global_step/sec: 74.2339\n"
          ],
          "name": "stdout"
        },
        {
          "output_type": "stream",
          "text": [
            "I0428 05:03:21.404709 140433646442368 basic_session_run_hooks.py:680] global_step/sec: 74.2339\n"
          ],
          "name": "stderr"
        },
        {
          "output_type": "stream",
          "text": [
            "INFO:tensorflow:loss = 0.21366242, step = 20 (0.136 sec)\n"
          ],
          "name": "stdout"
        },
        {
          "output_type": "stream",
          "text": [
            "I0428 05:03:21.409437 140433646442368 basic_session_run_hooks.py:247] loss = 0.21366242, step = 20 (0.136 sec)\n"
          ],
          "name": "stderr"
        },
        {
          "output_type": "stream",
          "text": [
            "INFO:tensorflow:global_step/sec: 71.7781\n"
          ],
          "name": "stdout"
        },
        {
          "output_type": "stream",
          "text": [
            "I0428 05:03:21.544046 140433646442368 basic_session_run_hooks.py:680] global_step/sec: 71.7781\n"
          ],
          "name": "stderr"
        },
        {
          "output_type": "stream",
          "text": [
            "INFO:tensorflow:loss = 0.077676736, step = 30 (0.141 sec)\n"
          ],
          "name": "stdout"
        },
        {
          "output_type": "stream",
          "text": [
            "I0428 05:03:21.550567 140433646442368 basic_session_run_hooks.py:247] loss = 0.077676736, step = 30 (0.141 sec)\n"
          ],
          "name": "stderr"
        },
        {
          "output_type": "stream",
          "text": [
            "INFO:tensorflow:global_step/sec: 71.7284\n"
          ],
          "name": "stdout"
        },
        {
          "output_type": "stream",
          "text": [
            "I0428 05:03:21.683431 140433646442368 basic_session_run_hooks.py:680] global_step/sec: 71.7284\n"
          ],
          "name": "stderr"
        },
        {
          "output_type": "stream",
          "text": [
            "INFO:tensorflow:loss = 0.099731505, step = 40 (0.135 sec)\n"
          ],
          "name": "stdout"
        },
        {
          "output_type": "stream",
          "text": [
            "I0428 05:03:21.685867 140433646442368 basic_session_run_hooks.py:247] loss = 0.099731505, step = 40 (0.135 sec)\n"
          ],
          "name": "stderr"
        },
        {
          "output_type": "stream",
          "text": [
            "INFO:tensorflow:global_step/sec: 73.0509\n"
          ],
          "name": "stdout"
        },
        {
          "output_type": "stream",
          "text": [
            "I0428 05:03:21.820318 140433646442368 basic_session_run_hooks.py:680] global_step/sec: 73.0509\n"
          ],
          "name": "stderr"
        },
        {
          "output_type": "stream",
          "text": [
            "INFO:tensorflow:loss = 0.085558675, step = 50 (0.137 sec)\n"
          ],
          "name": "stdout"
        },
        {
          "output_type": "stream",
          "text": [
            "I0428 05:03:21.823102 140433646442368 basic_session_run_hooks.py:247] loss = 0.085558675, step = 50 (0.137 sec)\n"
          ],
          "name": "stderr"
        },
        {
          "output_type": "stream",
          "text": [
            "INFO:tensorflow:global_step/sec: 72.7418\n"
          ],
          "name": "stdout"
        },
        {
          "output_type": "stream",
          "text": [
            "I0428 05:03:21.957817 140433646442368 basic_session_run_hooks.py:680] global_step/sec: 72.7418\n"
          ],
          "name": "stderr"
        },
        {
          "output_type": "stream",
          "text": [
            "INFO:tensorflow:loss = 0.05255243, step = 60 (0.137 sec)\n"
          ],
          "name": "stdout"
        },
        {
          "output_type": "stream",
          "text": [
            "I0428 05:03:21.960098 140433646442368 basic_session_run_hooks.py:247] loss = 0.05255243, step = 60 (0.137 sec)\n"
          ],
          "name": "stderr"
        },
        {
          "output_type": "stream",
          "text": [
            "INFO:tensorflow:global_step/sec: 70.9834\n"
          ],
          "name": "stdout"
        },
        {
          "output_type": "stream",
          "text": [
            "I0428 05:03:22.098664 140433646442368 basic_session_run_hooks.py:680] global_step/sec: 70.9834\n"
          ],
          "name": "stderr"
        },
        {
          "output_type": "stream",
          "text": [
            "INFO:tensorflow:loss = 0.043610595, step = 70 (0.141 sec)\n"
          ],
          "name": "stdout"
        },
        {
          "output_type": "stream",
          "text": [
            "I0428 05:03:22.101244 140433646442368 basic_session_run_hooks.py:247] loss = 0.043610595, step = 70 (0.141 sec)\n"
          ],
          "name": "stderr"
        },
        {
          "output_type": "stream",
          "text": [
            "INFO:tensorflow:global_step/sec: 75.1237\n"
          ],
          "name": "stdout"
        },
        {
          "output_type": "stream",
          "text": [
            "I0428 05:03:22.231764 140433646442368 basic_session_run_hooks.py:680] global_step/sec: 75.1237\n"
          ],
          "name": "stderr"
        },
        {
          "output_type": "stream",
          "text": [
            "INFO:tensorflow:loss = 0.013944887, step = 80 (0.137 sec)\n"
          ],
          "name": "stdout"
        },
        {
          "output_type": "stream",
          "text": [
            "I0428 05:03:22.238530 140433646442368 basic_session_run_hooks.py:247] loss = 0.013944887, step = 80 (0.137 sec)\n"
          ],
          "name": "stderr"
        },
        {
          "output_type": "stream",
          "text": [
            "INFO:tensorflow:global_step/sec: 73.7154\n"
          ],
          "name": "stdout"
        },
        {
          "output_type": "stream",
          "text": [
            "I0428 05:03:22.367443 140433646442368 basic_session_run_hooks.py:680] global_step/sec: 73.7154\n"
          ],
          "name": "stderr"
        },
        {
          "output_type": "stream",
          "text": [
            "INFO:tensorflow:loss = 0.006603091, step = 90 (0.131 sec)\n"
          ],
          "name": "stdout"
        },
        {
          "output_type": "stream",
          "text": [
            "I0428 05:03:22.369647 140433646442368 basic_session_run_hooks.py:247] loss = 0.006603091, step = 90 (0.131 sec)\n"
          ],
          "name": "stderr"
        },
        {
          "output_type": "stream",
          "text": [
            "INFO:tensorflow:Saving checkpoints for 100 into /content/model/trained/model.ckpt.\n"
          ],
          "name": "stdout"
        },
        {
          "output_type": "stream",
          "text": [
            "I0428 05:03:22.497190 140433646442368 basic_session_run_hooks.py:594] Saving checkpoints for 100 into /content/model/trained/model.ckpt.\n"
          ],
          "name": "stderr"
        },
        {
          "output_type": "stream",
          "text": [
            "INFO:tensorflow:Calling model_fn.\n"
          ],
          "name": "stdout"
        },
        {
          "output_type": "stream",
          "text": [
            "I0428 05:03:23.162235 140433646442368 estimator.py:1111] Calling model_fn.\n"
          ],
          "name": "stderr"
        },
        {
          "output_type": "stream",
          "text": [
            "INFO:tensorflow:Saver not created because there are no variables in the graph to restore\n"
          ],
          "name": "stdout"
        },
        {
          "output_type": "stream",
          "text": [
            "I0428 05:03:25.900377 140433646442368 saver.py:1483] Saver not created because there are no variables in the graph to restore\n"
          ],
          "name": "stderr"
        },
        {
          "output_type": "stream",
          "text": [
            "INFO:tensorflow:Done calling model_fn.\n"
          ],
          "name": "stdout"
        },
        {
          "output_type": "stream",
          "text": [
            "I0428 05:03:26.188500 140433646442368 estimator.py:1113] Done calling model_fn.\n"
          ],
          "name": "stderr"
        },
        {
          "output_type": "stream",
          "text": [
            "INFO:tensorflow:Starting evaluation at 2019-04-28T05:03:26Z\n"
          ],
          "name": "stdout"
        },
        {
          "output_type": "stream",
          "text": [
            "I0428 05:03:26.213526 140433646442368 evaluation.py:257] Starting evaluation at 2019-04-28T05:03:26Z\n"
          ],
          "name": "stderr"
        },
        {
          "output_type": "stream",
          "text": [
            "INFO:tensorflow:Graph was finalized.\n"
          ],
          "name": "stdout"
        },
        {
          "output_type": "stream",
          "text": [
            "I0428 05:03:26.907947 140433646442368 monitored_session.py:222] Graph was finalized.\n"
          ],
          "name": "stderr"
        },
        {
          "output_type": "stream",
          "text": [
            "INFO:tensorflow:Restoring parameters from /content/model/trained/model.ckpt-100\n"
          ],
          "name": "stdout"
        },
        {
          "output_type": "stream",
          "text": [
            "I0428 05:03:26.916601 140433646442368 saver.py:1270] Restoring parameters from /content/model/trained/model.ckpt-100\n"
          ],
          "name": "stderr"
        },
        {
          "output_type": "stream",
          "text": [
            "INFO:tensorflow:Running local_init_op.\n"
          ],
          "name": "stdout"
        },
        {
          "output_type": "stream",
          "text": [
            "I0428 05:03:27.514812 140433646442368 session_manager.py:491] Running local_init_op.\n"
          ],
          "name": "stderr"
        },
        {
          "output_type": "stream",
          "text": [
            "INFO:tensorflow:Done running local_init_op.\n"
          ],
          "name": "stdout"
        },
        {
          "output_type": "stream",
          "text": [
            "I0428 05:03:27.603157 140433646442368 session_manager.py:493] Done running local_init_op.\n"
          ],
          "name": "stderr"
        },
        {
          "output_type": "stream",
          "text": [
            "INFO:tensorflow:Finished evaluation at 2019-04-28-05:03:32\n"
          ],
          "name": "stdout"
        },
        {
          "output_type": "stream",
          "text": [
            "I0428 05:03:32.565598 140433646442368 evaluation.py:277] Finished evaluation at 2019-04-28-05:03:32\n"
          ],
          "name": "stderr"
        },
        {
          "output_type": "stream",
          "text": [
            "INFO:tensorflow:Saving dict for global step 100: acc = 0.9745, global_step = 100, loss = 0.070655726\n"
          ],
          "name": "stdout"
        },
        {
          "output_type": "stream",
          "text": [
            "I0428 05:03:32.567414 140433646442368 estimator.py:1979] Saving dict for global step 100: acc = 0.9745, global_step = 100, loss = 0.070655726\n"
          ],
          "name": "stderr"
        },
        {
          "output_type": "stream",
          "text": [
            "INFO:tensorflow:Saving 'checkpoint_path' summary for global step 100: /content/model/trained/model.ckpt-100\n"
          ],
          "name": "stdout"
        },
        {
          "output_type": "stream",
          "text": [
            "I0428 05:03:32.574059 140433646442368 estimator.py:2039] Saving 'checkpoint_path' summary for global step 100: /content/model/trained/model.ckpt-100\n"
          ],
          "name": "stderr"
        },
        {
          "output_type": "stream",
          "text": [
            "INFO:tensorflow:global_step/sec: 0.978083\n"
          ],
          "name": "stdout"
        },
        {
          "output_type": "stream",
          "text": [
            "I0428 05:03:32.591467 140433646442368 basic_session_run_hooks.py:680] global_step/sec: 0.978083\n"
          ],
          "name": "stderr"
        },
        {
          "output_type": "stream",
          "text": [
            "INFO:tensorflow:loss = 0.029351905, step = 100 (10.226 sec)\n"
          ],
          "name": "stdout"
        },
        {
          "output_type": "stream",
          "text": [
            "I0428 05:03:32.595683 140433646442368 basic_session_run_hooks.py:247] loss = 0.029351905, step = 100 (10.226 sec)\n"
          ],
          "name": "stderr"
        },
        {
          "output_type": "stream",
          "text": [
            "INFO:tensorflow:global_step/sec: 100.959\n"
          ],
          "name": "stdout"
        },
        {
          "output_type": "stream",
          "text": [
            "I0428 05:03:32.690571 140433646442368 basic_session_run_hooks.py:680] global_step/sec: 100.959\n"
          ],
          "name": "stderr"
        },
        {
          "output_type": "stream",
          "text": [
            "INFO:tensorflow:loss = 0.02126489, step = 110 (0.097 sec)\n"
          ],
          "name": "stdout"
        },
        {
          "output_type": "stream",
          "text": [
            "I0428 05:03:32.692763 140433646442368 basic_session_run_hooks.py:247] loss = 0.02126489, step = 110 (0.097 sec)\n"
          ],
          "name": "stderr"
        },
        {
          "output_type": "stream",
          "text": [
            "INFO:tensorflow:global_step/sec: 85.2402\n"
          ],
          "name": "stdout"
        },
        {
          "output_type": "stream",
          "text": [
            "I0428 05:03:32.807917 140433646442368 basic_session_run_hooks.py:680] global_step/sec: 85.2402\n"
          ],
          "name": "stderr"
        },
        {
          "output_type": "stream",
          "text": [
            "INFO:tensorflow:loss = 0.051990915, step = 120 (0.117 sec)\n"
          ],
          "name": "stdout"
        },
        {
          "output_type": "stream",
          "text": [
            "I0428 05:03:32.809721 140433646442368 basic_session_run_hooks.py:247] loss = 0.051990915, step = 120 (0.117 sec)\n"
          ],
          "name": "stderr"
        },
        {
          "output_type": "stream",
          "text": [
            "INFO:tensorflow:global_step/sec: 84.1491\n"
          ],
          "name": "stdout"
        },
        {
          "output_type": "stream",
          "text": [
            "I0428 05:03:32.926705 140433646442368 basic_session_run_hooks.py:680] global_step/sec: 84.1491\n"
          ],
          "name": "stderr"
        },
        {
          "output_type": "stream",
          "text": [
            "INFO:tensorflow:loss = 0.0394927, step = 130 (0.119 sec)\n"
          ],
          "name": "stdout"
        },
        {
          "output_type": "stream",
          "text": [
            "I0428 05:03:32.929111 140433646442368 basic_session_run_hooks.py:247] loss = 0.0394927, step = 130 (0.119 sec)\n"
          ],
          "name": "stderr"
        },
        {
          "output_type": "stream",
          "text": [
            "INFO:tensorflow:global_step/sec: 80.1913\n"
          ],
          "name": "stdout"
        },
        {
          "output_type": "stream",
          "text": [
            "I0428 05:03:33.051434 140433646442368 basic_session_run_hooks.py:680] global_step/sec: 80.1913\n"
          ],
          "name": "stderr"
        },
        {
          "output_type": "stream",
          "text": [
            "INFO:tensorflow:loss = 0.0024366998, step = 140 (0.125 sec)\n"
          ],
          "name": "stdout"
        },
        {
          "output_type": "stream",
          "text": [
            "I0428 05:03:33.053679 140433646442368 basic_session_run_hooks.py:247] loss = 0.0024366998, step = 140 (0.125 sec)\n"
          ],
          "name": "stderr"
        },
        {
          "output_type": "stream",
          "text": [
            "INFO:tensorflow:global_step/sec: 82.2342\n"
          ],
          "name": "stdout"
        },
        {
          "output_type": "stream",
          "text": [
            "I0428 05:03:33.173007 140433646442368 basic_session_run_hooks.py:680] global_step/sec: 82.2342\n"
          ],
          "name": "stderr"
        },
        {
          "output_type": "stream",
          "text": [
            "INFO:tensorflow:loss = 0.07211674, step = 150 (0.124 sec)\n"
          ],
          "name": "stdout"
        },
        {
          "output_type": "stream",
          "text": [
            "I0428 05:03:33.177211 140433646442368 basic_session_run_hooks.py:247] loss = 0.07211674, step = 150 (0.124 sec)\n"
          ],
          "name": "stderr"
        },
        {
          "output_type": "stream",
          "text": [
            "INFO:tensorflow:global_step/sec: 81.9709\n"
          ],
          "name": "stdout"
        },
        {
          "output_type": "stream",
          "text": [
            "I0428 05:03:33.295014 140433646442368 basic_session_run_hooks.py:680] global_step/sec: 81.9709\n"
          ],
          "name": "stderr"
        },
        {
          "output_type": "stream",
          "text": [
            "INFO:tensorflow:loss = 0.041198283, step = 160 (0.120 sec)\n"
          ],
          "name": "stdout"
        },
        {
          "output_type": "stream",
          "text": [
            "I0428 05:03:33.297250 140433646442368 basic_session_run_hooks.py:247] loss = 0.041198283, step = 160 (0.120 sec)\n"
          ],
          "name": "stderr"
        },
        {
          "output_type": "stream",
          "text": [
            "INFO:tensorflow:global_step/sec: 82.2877\n"
          ],
          "name": "stdout"
        },
        {
          "output_type": "stream",
          "text": [
            "I0428 05:03:33.416535 140433646442368 basic_session_run_hooks.py:680] global_step/sec: 82.2877\n"
          ],
          "name": "stderr"
        },
        {
          "output_type": "stream",
          "text": [
            "INFO:tensorflow:loss = 0.017047076, step = 170 (0.121 sec)\n"
          ],
          "name": "stdout"
        },
        {
          "output_type": "stream",
          "text": [
            "I0428 05:03:33.418511 140433646442368 basic_session_run_hooks.py:247] loss = 0.017047076, step = 170 (0.121 sec)\n"
          ],
          "name": "stderr"
        },
        {
          "output_type": "stream",
          "text": [
            "INFO:tensorflow:global_step/sec: 86.9183\n"
          ],
          "name": "stdout"
        },
        {
          "output_type": "stream",
          "text": [
            "I0428 05:03:33.531580 140433646442368 basic_session_run_hooks.py:680] global_step/sec: 86.9183\n"
          ],
          "name": "stderr"
        },
        {
          "output_type": "stream",
          "text": [
            "INFO:tensorflow:loss = 0.01900896, step = 180 (0.115 sec)\n"
          ],
          "name": "stdout"
        },
        {
          "output_type": "stream",
          "text": [
            "I0428 05:03:33.533692 140433646442368 basic_session_run_hooks.py:247] loss = 0.01900896, step = 180 (0.115 sec)\n"
          ],
          "name": "stderr"
        },
        {
          "output_type": "stream",
          "text": [
            "INFO:tensorflow:global_step/sec: 84.6741\n"
          ],
          "name": "stdout"
        },
        {
          "output_type": "stream",
          "text": [
            "I0428 05:03:33.649687 140433646442368 basic_session_run_hooks.py:680] global_step/sec: 84.6741\n"
          ],
          "name": "stderr"
        },
        {
          "output_type": "stream",
          "text": [
            "INFO:tensorflow:loss = 0.117237255, step = 190 (0.118 sec)\n"
          ],
          "name": "stdout"
        },
        {
          "output_type": "stream",
          "text": [
            "I0428 05:03:33.651860 140433646442368 basic_session_run_hooks.py:247] loss = 0.117237255, step = 190 (0.118 sec)\n"
          ],
          "name": "stderr"
        },
        {
          "output_type": "stream",
          "text": [
            "INFO:tensorflow:Saving checkpoints for 200 into /content/model/trained/model.ckpt.\n"
          ],
          "name": "stdout"
        },
        {
          "output_type": "stream",
          "text": [
            "I0428 05:03:33.755938 140433646442368 basic_session_run_hooks.py:594] Saving checkpoints for 200 into /content/model/trained/model.ckpt.\n"
          ],
          "name": "stderr"
        },
        {
          "output_type": "stream",
          "text": [
            "INFO:tensorflow:Skip the current checkpoint eval due to throttle secs (30 secs).\n"
          ],
          "name": "stdout"
        },
        {
          "output_type": "stream",
          "text": [
            "I0428 05:03:34.325229 140433646442368 training.py:525] Skip the current checkpoint eval due to throttle secs (30 secs).\n"
          ],
          "name": "stderr"
        },
        {
          "output_type": "stream",
          "text": [
            "INFO:tensorflow:global_step/sec: 14.3598\n"
          ],
          "name": "stdout"
        },
        {
          "output_type": "stream",
          "text": [
            "I0428 05:03:34.346115 140433646442368 basic_session_run_hooks.py:680] global_step/sec: 14.3598\n"
          ],
          "name": "stderr"
        },
        {
          "output_type": "stream",
          "text": [
            "INFO:tensorflow:loss = 0.005564819, step = 200 (0.700 sec)\n"
          ],
          "name": "stdout"
        },
        {
          "output_type": "stream",
          "text": [
            "I0428 05:03:34.351815 140433646442368 basic_session_run_hooks.py:247] loss = 0.005564819, step = 200 (0.700 sec)\n"
          ],
          "name": "stderr"
        },
        {
          "output_type": "stream",
          "text": [
            "INFO:tensorflow:global_step/sec: 102.446\n"
          ],
          "name": "stdout"
        },
        {
          "output_type": "stream",
          "text": [
            "I0428 05:03:34.443694 140433646442368 basic_session_run_hooks.py:680] global_step/sec: 102.446\n"
          ],
          "name": "stderr"
        },
        {
          "output_type": "stream",
          "text": [
            "INFO:tensorflow:loss = 0.0618845, step = 210 (0.097 sec)\n"
          ],
          "name": "stdout"
        },
        {
          "output_type": "stream",
          "text": [
            "I0428 05:03:34.449005 140433646442368 basic_session_run_hooks.py:247] loss = 0.0618845, step = 210 (0.097 sec)\n"
          ],
          "name": "stderr"
        },
        {
          "output_type": "stream",
          "text": [
            "INFO:tensorflow:global_step/sec: 98.438\n"
          ],
          "name": "stdout"
        },
        {
          "output_type": "stream",
          "text": [
            "I0428 05:03:34.545288 140433646442368 basic_session_run_hooks.py:680] global_step/sec: 98.438\n"
          ],
          "name": "stderr"
        },
        {
          "output_type": "stream",
          "text": [
            "INFO:tensorflow:loss = 0.0020910813, step = 220 (0.101 sec)\n"
          ],
          "name": "stdout"
        },
        {
          "output_type": "stream",
          "text": [
            "I0428 05:03:34.550457 140433646442368 basic_session_run_hooks.py:247] loss = 0.0020910813, step = 220 (0.101 sec)\n"
          ],
          "name": "stderr"
        },
        {
          "output_type": "stream",
          "text": [
            "INFO:tensorflow:global_step/sec: 100.752\n"
          ],
          "name": "stdout"
        },
        {
          "output_type": "stream",
          "text": [
            "I0428 05:03:34.644573 140433646442368 basic_session_run_hooks.py:680] global_step/sec: 100.752\n"
          ],
          "name": "stderr"
        },
        {
          "output_type": "stream",
          "text": [
            "INFO:tensorflow:loss = 0.0040727, step = 230 (0.101 sec)\n"
          ],
          "name": "stdout"
        },
        {
          "output_type": "stream",
          "text": [
            "I0428 05:03:34.651038 140433646442368 basic_session_run_hooks.py:247] loss = 0.0040727, step = 230 (0.101 sec)\n"
          ],
          "name": "stderr"
        },
        {
          "output_type": "stream",
          "text": [
            "INFO:tensorflow:global_step/sec: 87.8133\n"
          ],
          "name": "stdout"
        },
        {
          "output_type": "stream",
          "text": [
            "I0428 05:03:34.758410 140433646442368 basic_session_run_hooks.py:680] global_step/sec: 87.8133\n"
          ],
          "name": "stderr"
        },
        {
          "output_type": "stream",
          "text": [
            "INFO:tensorflow:loss = 0.0007880364, step = 240 (0.111 sec)\n"
          ],
          "name": "stdout"
        },
        {
          "output_type": "stream",
          "text": [
            "I0428 05:03:34.762433 140433646442368 basic_session_run_hooks.py:247] loss = 0.0007880364, step = 240 (0.111 sec)\n"
          ],
          "name": "stderr"
        },
        {
          "output_type": "stream",
          "text": [
            "INFO:tensorflow:global_step/sec: 84.8001\n"
          ],
          "name": "stdout"
        },
        {
          "output_type": "stream",
          "text": [
            "I0428 05:03:34.876339 140433646442368 basic_session_run_hooks.py:680] global_step/sec: 84.8001\n"
          ],
          "name": "stderr"
        },
        {
          "output_type": "stream",
          "text": [
            "INFO:tensorflow:loss = 0.0083343005, step = 250 (0.118 sec)\n"
          ],
          "name": "stdout"
        },
        {
          "output_type": "stream",
          "text": [
            "I0428 05:03:34.880277 140433646442368 basic_session_run_hooks.py:247] loss = 0.0083343005, step = 250 (0.118 sec)\n"
          ],
          "name": "stderr"
        },
        {
          "output_type": "stream",
          "text": [
            "INFO:tensorflow:global_step/sec: 86.9266\n"
          ],
          "name": "stdout"
        },
        {
          "output_type": "stream",
          "text": [
            "I0428 05:03:34.991429 140433646442368 basic_session_run_hooks.py:680] global_step/sec: 86.9266\n"
          ],
          "name": "stderr"
        },
        {
          "output_type": "stream",
          "text": [
            "INFO:tensorflow:loss = 0.007580377, step = 260 (0.114 sec)\n"
          ],
          "name": "stdout"
        },
        {
          "output_type": "stream",
          "text": [
            "I0428 05:03:34.994285 140433646442368 basic_session_run_hooks.py:247] loss = 0.007580377, step = 260 (0.114 sec)\n"
          ],
          "name": "stderr"
        },
        {
          "output_type": "stream",
          "text": [
            "INFO:tensorflow:global_step/sec: 86.2846\n"
          ],
          "name": "stdout"
        },
        {
          "output_type": "stream",
          "text": [
            "I0428 05:03:35.107285 140433646442368 basic_session_run_hooks.py:680] global_step/sec: 86.2846\n"
          ],
          "name": "stderr"
        },
        {
          "output_type": "stream",
          "text": [
            "INFO:tensorflow:loss = 0.016845342, step = 270 (0.115 sec)\n"
          ],
          "name": "stdout"
        },
        {
          "output_type": "stream",
          "text": [
            "I0428 05:03:35.109403 140433646442368 basic_session_run_hooks.py:247] loss = 0.016845342, step = 270 (0.115 sec)\n"
          ],
          "name": "stderr"
        },
        {
          "output_type": "stream",
          "text": [
            "INFO:tensorflow:global_step/sec: 82.143\n"
          ],
          "name": "stdout"
        },
        {
          "output_type": "stream",
          "text": [
            "I0428 05:03:35.229031 140433646442368 basic_session_run_hooks.py:680] global_step/sec: 82.143\n"
          ],
          "name": "stderr"
        },
        {
          "output_type": "stream",
          "text": [
            "INFO:tensorflow:loss = 0.70148385, step = 280 (0.126 sec)\n"
          ],
          "name": "stdout"
        },
        {
          "output_type": "stream",
          "text": [
            "I0428 05:03:35.234994 140433646442368 basic_session_run_hooks.py:247] loss = 0.70148385, step = 280 (0.126 sec)\n"
          ],
          "name": "stderr"
        },
        {
          "output_type": "stream",
          "text": [
            "INFO:tensorflow:global_step/sec: 78.0816\n"
          ],
          "name": "stdout"
        },
        {
          "output_type": "stream",
          "text": [
            "I0428 05:03:35.357081 140433646442368 basic_session_run_hooks.py:680] global_step/sec: 78.0816\n"
          ],
          "name": "stderr"
        },
        {
          "output_type": "stream",
          "text": [
            "INFO:tensorflow:loss = 0.001952772, step = 290 (0.127 sec)\n"
          ],
          "name": "stdout"
        },
        {
          "output_type": "stream",
          "text": [
            "I0428 05:03:35.362306 140433646442368 basic_session_run_hooks.py:247] loss = 0.001952772, step = 290 (0.127 sec)\n"
          ],
          "name": "stderr"
        },
        {
          "output_type": "stream",
          "text": [
            "INFO:tensorflow:Saving checkpoints for 300 into /content/model/trained/model.ckpt.\n"
          ],
          "name": "stdout"
        },
        {
          "output_type": "stream",
          "text": [
            "I0428 05:03:35.468547 140433646442368 basic_session_run_hooks.py:594] Saving checkpoints for 300 into /content/model/trained/model.ckpt.\n"
          ],
          "name": "stderr"
        },
        {
          "output_type": "stream",
          "text": [
            "INFO:tensorflow:Skip the current checkpoint eval due to throttle secs (30 secs).\n"
          ],
          "name": "stdout"
        },
        {
          "output_type": "stream",
          "text": [
            "I0428 05:03:36.059878 140433646442368 training.py:525] Skip the current checkpoint eval due to throttle secs (30 secs).\n"
          ],
          "name": "stderr"
        },
        {
          "output_type": "stream",
          "text": [
            "INFO:tensorflow:global_step/sec: 13.9023\n"
          ],
          "name": "stdout"
        },
        {
          "output_type": "stream",
          "text": [
            "I0428 05:03:36.076386 140433646442368 basic_session_run_hooks.py:680] global_step/sec: 13.9023\n"
          ],
          "name": "stderr"
        },
        {
          "output_type": "stream",
          "text": [
            "INFO:tensorflow:loss = 0.0047439397, step = 300 (0.722 sec)\n"
          ],
          "name": "stdout"
        },
        {
          "output_type": "stream",
          "text": [
            "I0428 05:03:36.084129 140433646442368 basic_session_run_hooks.py:247] loss = 0.0047439397, step = 300 (0.722 sec)\n"
          ],
          "name": "stderr"
        },
        {
          "output_type": "stream",
          "text": [
            "INFO:tensorflow:global_step/sec: 107.684\n"
          ],
          "name": "stdout"
        },
        {
          "output_type": "stream",
          "text": [
            "I0428 05:03:36.169252 140433646442368 basic_session_run_hooks.py:680] global_step/sec: 107.684\n"
          ],
          "name": "stderr"
        },
        {
          "output_type": "stream",
          "text": [
            "INFO:tensorflow:loss = 0.03514352, step = 310 (0.090 sec)\n"
          ],
          "name": "stdout"
        },
        {
          "output_type": "stream",
          "text": [
            "I0428 05:03:36.174421 140433646442368 basic_session_run_hooks.py:247] loss = 0.03514352, step = 310 (0.090 sec)\n"
          ],
          "name": "stderr"
        },
        {
          "output_type": "stream",
          "text": [
            "INFO:tensorflow:global_step/sec: 111.281\n"
          ],
          "name": "stdout"
        },
        {
          "output_type": "stream",
          "text": [
            "I0428 05:03:36.259121 140433646442368 basic_session_run_hooks.py:680] global_step/sec: 111.281\n"
          ],
          "name": "stderr"
        },
        {
          "output_type": "stream",
          "text": [
            "INFO:tensorflow:loss = 0.0016140614, step = 320 (0.087 sec)\n"
          ],
          "name": "stdout"
        },
        {
          "output_type": "stream",
          "text": [
            "I0428 05:03:36.261846 140433646442368 basic_session_run_hooks.py:247] loss = 0.0016140614, step = 320 (0.087 sec)\n"
          ],
          "name": "stderr"
        },
        {
          "output_type": "stream",
          "text": [
            "INFO:tensorflow:global_step/sec: 99.087\n"
          ],
          "name": "stdout"
        },
        {
          "output_type": "stream",
          "text": [
            "I0428 05:03:36.360032 140433646442368 basic_session_run_hooks.py:680] global_step/sec: 99.087\n"
          ],
          "name": "stderr"
        },
        {
          "output_type": "stream",
          "text": [
            "INFO:tensorflow:loss = 0.06267815, step = 330 (0.103 sec)\n"
          ],
          "name": "stdout"
        },
        {
          "output_type": "stream",
          "text": [
            "I0428 05:03:36.364537 140433646442368 basic_session_run_hooks.py:247] loss = 0.06267815, step = 330 (0.103 sec)\n"
          ],
          "name": "stderr"
        },
        {
          "output_type": "stream",
          "text": [
            "INFO:tensorflow:global_step/sec: 104.305\n"
          ],
          "name": "stdout"
        },
        {
          "output_type": "stream",
          "text": [
            "I0428 05:03:36.455920 140433646442368 basic_session_run_hooks.py:680] global_step/sec: 104.305\n"
          ],
          "name": "stderr"
        },
        {
          "output_type": "stream",
          "text": [
            "INFO:tensorflow:loss = 0.0059352764, step = 340 (0.093 sec)\n"
          ],
          "name": "stdout"
        },
        {
          "output_type": "stream",
          "text": [
            "I0428 05:03:36.457990 140433646442368 basic_session_run_hooks.py:247] loss = 0.0059352764, step = 340 (0.093 sec)\n"
          ],
          "name": "stderr"
        },
        {
          "output_type": "stream",
          "text": [
            "INFO:tensorflow:global_step/sec: 87.5464\n"
          ],
          "name": "stdout"
        },
        {
          "output_type": "stream",
          "text": [
            "I0428 05:03:36.570122 140433646442368 basic_session_run_hooks.py:680] global_step/sec: 87.5464\n"
          ],
          "name": "stderr"
        },
        {
          "output_type": "stream",
          "text": [
            "INFO:tensorflow:loss = 0.0010352272, step = 350 (0.114 sec)\n"
          ],
          "name": "stdout"
        },
        {
          "output_type": "stream",
          "text": [
            "I0428 05:03:36.572198 140433646442368 basic_session_run_hooks.py:247] loss = 0.0010352272, step = 350 (0.114 sec)\n"
          ],
          "name": "stderr"
        },
        {
          "output_type": "stream",
          "text": [
            "INFO:tensorflow:global_step/sec: 87.6597\n"
          ],
          "name": "stdout"
        },
        {
          "output_type": "stream",
          "text": [
            "I0428 05:03:36.684216 140433646442368 basic_session_run_hooks.py:680] global_step/sec: 87.6597\n"
          ],
          "name": "stderr"
        },
        {
          "output_type": "stream",
          "text": [
            "INFO:tensorflow:loss = 0.029799446, step = 360 (0.114 sec)\n"
          ],
          "name": "stdout"
        },
        {
          "output_type": "stream",
          "text": [
            "I0428 05:03:36.686113 140433646442368 basic_session_run_hooks.py:247] loss = 0.029799446, step = 360 (0.114 sec)\n"
          ],
          "name": "stderr"
        },
        {
          "output_type": "stream",
          "text": [
            "INFO:tensorflow:global_step/sec: 84.3716\n"
          ],
          "name": "stdout"
        },
        {
          "output_type": "stream",
          "text": [
            "I0428 05:03:36.802762 140433646442368 basic_session_run_hooks.py:680] global_step/sec: 84.3716\n"
          ],
          "name": "stderr"
        },
        {
          "output_type": "stream",
          "text": [
            "INFO:tensorflow:loss = 0.031147042, step = 370 (0.119 sec)\n"
          ],
          "name": "stdout"
        },
        {
          "output_type": "stream",
          "text": [
            "I0428 05:03:36.804698 140433646442368 basic_session_run_hooks.py:247] loss = 0.031147042, step = 370 (0.119 sec)\n"
          ],
          "name": "stderr"
        },
        {
          "output_type": "stream",
          "text": [
            "INFO:tensorflow:global_step/sec: 82.4798\n"
          ],
          "name": "stdout"
        },
        {
          "output_type": "stream",
          "text": [
            "I0428 05:03:36.923965 140433646442368 basic_session_run_hooks.py:680] global_step/sec: 82.4798\n"
          ],
          "name": "stderr"
        },
        {
          "output_type": "stream",
          "text": [
            "INFO:tensorflow:loss = 0.53321314, step = 380 (0.121 sec)\n"
          ],
          "name": "stdout"
        },
        {
          "output_type": "stream",
          "text": [
            "I0428 05:03:36.925765 140433646442368 basic_session_run_hooks.py:247] loss = 0.53321314, step = 380 (0.121 sec)\n"
          ],
          "name": "stderr"
        },
        {
          "output_type": "stream",
          "text": [
            "INFO:tensorflow:global_step/sec: 80.0703\n"
          ],
          "name": "stdout"
        },
        {
          "output_type": "stream",
          "text": [
            "I0428 05:03:37.048923 140433646442368 basic_session_run_hooks.py:680] global_step/sec: 80.0703\n"
          ],
          "name": "stderr"
        },
        {
          "output_type": "stream",
          "text": [
            "INFO:tensorflow:loss = 0.050293613, step = 390 (0.125 sec)\n"
          ],
          "name": "stdout"
        },
        {
          "output_type": "stream",
          "text": [
            "I0428 05:03:37.051114 140433646442368 basic_session_run_hooks.py:247] loss = 0.050293613, step = 390 (0.125 sec)\n"
          ],
          "name": "stderr"
        },
        {
          "output_type": "stream",
          "text": [
            "INFO:tensorflow:Saving checkpoints for 400 into /content/model/trained/model.ckpt.\n"
          ],
          "name": "stdout"
        },
        {
          "output_type": "stream",
          "text": [
            "I0428 05:03:37.160871 140433646442368 basic_session_run_hooks.py:594] Saving checkpoints for 400 into /content/model/trained/model.ckpt.\n"
          ],
          "name": "stderr"
        },
        {
          "output_type": "stream",
          "text": [
            "INFO:tensorflow:Skip the current checkpoint eval due to throttle secs (30 secs).\n"
          ],
          "name": "stdout"
        },
        {
          "output_type": "stream",
          "text": [
            "I0428 05:03:37.852704 140433646442368 training.py:525] Skip the current checkpoint eval due to throttle secs (30 secs).\n"
          ],
          "name": "stderr"
        },
        {
          "output_type": "stream",
          "text": [
            "INFO:tensorflow:global_step/sec: 12.1324\n"
          ],
          "name": "stdout"
        },
        {
          "output_type": "stream",
          "text": [
            "I0428 05:03:37.873085 140433646442368 basic_session_run_hooks.py:680] global_step/sec: 12.1324\n"
          ],
          "name": "stderr"
        },
        {
          "output_type": "stream",
          "text": [
            "INFO:tensorflow:loss = 0.029467339, step = 400 (0.826 sec)\n"
          ],
          "name": "stdout"
        },
        {
          "output_type": "stream",
          "text": [
            "I0428 05:03:37.877593 140433646442368 basic_session_run_hooks.py:247] loss = 0.029467339, step = 400 (0.826 sec)\n"
          ],
          "name": "stderr"
        },
        {
          "output_type": "stream",
          "text": [
            "INFO:tensorflow:global_step/sec: 116.453\n"
          ],
          "name": "stdout"
        },
        {
          "output_type": "stream",
          "text": [
            "I0428 05:03:37.958965 140433646442368 basic_session_run_hooks.py:680] global_step/sec: 116.453\n"
          ],
          "name": "stderr"
        },
        {
          "output_type": "stream",
          "text": [
            "INFO:tensorflow:loss = 0.13717069, step = 410 (0.084 sec)\n"
          ],
          "name": "stdout"
        },
        {
          "output_type": "stream",
          "text": [
            "I0428 05:03:37.961402 140433646442368 basic_session_run_hooks.py:247] loss = 0.13717069, step = 410 (0.084 sec)\n"
          ],
          "name": "stderr"
        },
        {
          "output_type": "stream",
          "text": [
            "INFO:tensorflow:global_step/sec: 106.745\n"
          ],
          "name": "stdout"
        },
        {
          "output_type": "stream",
          "text": [
            "I0428 05:03:38.052652 140433646442368 basic_session_run_hooks.py:680] global_step/sec: 106.745\n"
          ],
          "name": "stderr"
        },
        {
          "output_type": "stream",
          "text": [
            "INFO:tensorflow:loss = 0.005775141, step = 420 (0.093 sec)\n"
          ],
          "name": "stdout"
        },
        {
          "output_type": "stream",
          "text": [
            "I0428 05:03:38.054664 140433646442368 basic_session_run_hooks.py:247] loss = 0.005775141, step = 420 (0.093 sec)\n"
          ],
          "name": "stderr"
        },
        {
          "output_type": "stream",
          "text": [
            "INFO:tensorflow:global_step/sec: 106.953\n"
          ],
          "name": "stdout"
        },
        {
          "output_type": "stream",
          "text": [
            "I0428 05:03:38.146153 140433646442368 basic_session_run_hooks.py:680] global_step/sec: 106.953\n"
          ],
          "name": "stderr"
        },
        {
          "output_type": "stream",
          "text": [
            "INFO:tensorflow:loss = 0.5414635, step = 430 (0.094 sec)\n"
          ],
          "name": "stdout"
        },
        {
          "output_type": "stream",
          "text": [
            "I0428 05:03:38.148209 140433646442368 basic_session_run_hooks.py:247] loss = 0.5414635, step = 430 (0.094 sec)\n"
          ],
          "name": "stderr"
        },
        {
          "output_type": "stream",
          "text": [
            "INFO:tensorflow:global_step/sec: 106.879\n"
          ],
          "name": "stdout"
        },
        {
          "output_type": "stream",
          "text": [
            "I0428 05:03:38.239719 140433646442368 basic_session_run_hooks.py:680] global_step/sec: 106.879\n"
          ],
          "name": "stderr"
        },
        {
          "output_type": "stream",
          "text": [
            "INFO:tensorflow:loss = 0.009512761, step = 440 (0.094 sec)\n"
          ],
          "name": "stdout"
        },
        {
          "output_type": "stream",
          "text": [
            "I0428 05:03:38.241737 140433646442368 basic_session_run_hooks.py:247] loss = 0.009512761, step = 440 (0.094 sec)\n"
          ],
          "name": "stderr"
        },
        {
          "output_type": "stream",
          "text": [
            "INFO:tensorflow:global_step/sec: 99.5787\n"
          ],
          "name": "stdout"
        },
        {
          "output_type": "stream",
          "text": [
            "I0428 05:03:38.340151 140433646442368 basic_session_run_hooks.py:680] global_step/sec: 99.5787\n"
          ],
          "name": "stderr"
        },
        {
          "output_type": "stream",
          "text": [
            "INFO:tensorflow:loss = 0.25455388, step = 450 (0.103 sec)\n"
          ],
          "name": "stdout"
        },
        {
          "output_type": "stream",
          "text": [
            "I0428 05:03:38.344937 140433646442368 basic_session_run_hooks.py:247] loss = 0.25455388, step = 450 (0.103 sec)\n"
          ],
          "name": "stderr"
        },
        {
          "output_type": "stream",
          "text": [
            "INFO:tensorflow:global_step/sec: 97.6385\n"
          ],
          "name": "stdout"
        },
        {
          "output_type": "stream",
          "text": [
            "I0428 05:03:38.442554 140433646442368 basic_session_run_hooks.py:680] global_step/sec: 97.6385\n"
          ],
          "name": "stderr"
        },
        {
          "output_type": "stream",
          "text": [
            "INFO:tensorflow:loss = 0.6127934, step = 460 (0.100 sec)\n"
          ],
          "name": "stdout"
        },
        {
          "output_type": "stream",
          "text": [
            "I0428 05:03:38.445162 140433646442368 basic_session_run_hooks.py:247] loss = 0.6127934, step = 460 (0.100 sec)\n"
          ],
          "name": "stderr"
        },
        {
          "output_type": "stream",
          "text": [
            "INFO:tensorflow:global_step/sec: 112.056\n"
          ],
          "name": "stdout"
        },
        {
          "output_type": "stream",
          "text": [
            "I0428 05:03:38.531930 140433646442368 basic_session_run_hooks.py:680] global_step/sec: 112.056\n"
          ],
          "name": "stderr"
        },
        {
          "output_type": "stream",
          "text": [
            "INFO:tensorflow:loss = 0.0069976547, step = 470 (0.089 sec)\n"
          ],
          "name": "stdout"
        },
        {
          "output_type": "stream",
          "text": [
            "I0428 05:03:38.534355 140433646442368 basic_session_run_hooks.py:247] loss = 0.0069976547, step = 470 (0.089 sec)\n"
          ],
          "name": "stderr"
        },
        {
          "output_type": "stream",
          "text": [
            "INFO:tensorflow:global_step/sec: 112.754\n"
          ],
          "name": "stdout"
        },
        {
          "output_type": "stream",
          "text": [
            "I0428 05:03:38.620479 140433646442368 basic_session_run_hooks.py:680] global_step/sec: 112.754\n"
          ],
          "name": "stderr"
        },
        {
          "output_type": "stream",
          "text": [
            "INFO:tensorflow:loss = 0.011104579, step = 480 (0.088 sec)\n"
          ],
          "name": "stdout"
        },
        {
          "output_type": "stream",
          "text": [
            "I0428 05:03:38.622408 140433646442368 basic_session_run_hooks.py:247] loss = 0.011104579, step = 480 (0.088 sec)\n"
          ],
          "name": "stderr"
        },
        {
          "output_type": "stream",
          "text": [
            "INFO:tensorflow:global_step/sec: 102.541\n"
          ],
          "name": "stdout"
        },
        {
          "output_type": "stream",
          "text": [
            "I0428 05:03:38.718015 140433646442368 basic_session_run_hooks.py:680] global_step/sec: 102.541\n"
          ],
          "name": "stderr"
        },
        {
          "output_type": "stream",
          "text": [
            "INFO:tensorflow:loss = 0.02010483, step = 490 (0.098 sec)\n"
          ],
          "name": "stdout"
        },
        {
          "output_type": "stream",
          "text": [
            "I0428 05:03:38.720244 140433646442368 basic_session_run_hooks.py:247] loss = 0.02010483, step = 490 (0.098 sec)\n"
          ],
          "name": "stderr"
        },
        {
          "output_type": "stream",
          "text": [
            "INFO:tensorflow:Saving checkpoints for 500 into /content/model/trained/model.ckpt.\n"
          ],
          "name": "stdout"
        },
        {
          "output_type": "stream",
          "text": [
            "I0428 05:03:38.827588 140433646442368 basic_session_run_hooks.py:594] Saving checkpoints for 500 into /content/model/trained/model.ckpt.\n"
          ],
          "name": "stderr"
        },
        {
          "output_type": "stream",
          "text": [
            "INFO:tensorflow:Skip the current checkpoint eval due to throttle secs (30 secs).\n"
          ],
          "name": "stdout"
        },
        {
          "output_type": "stream",
          "text": [
            "I0428 05:03:39.720149 140433646442368 training.py:525] Skip the current checkpoint eval due to throttle secs (30 secs).\n"
          ],
          "name": "stderr"
        },
        {
          "output_type": "stream",
          "text": [
            "INFO:tensorflow:Calling model_fn.\n"
          ],
          "name": "stdout"
        },
        {
          "output_type": "stream",
          "text": [
            "I0428 05:03:39.821982 140433646442368 estimator.py:1111] Calling model_fn.\n"
          ],
          "name": "stderr"
        },
        {
          "output_type": "stream",
          "text": [
            "INFO:tensorflow:Saver not created because there are no variables in the graph to restore\n"
          ],
          "name": "stdout"
        },
        {
          "output_type": "stream",
          "text": [
            "I0428 05:03:42.559807 140433646442368 saver.py:1483] Saver not created because there are no variables in the graph to restore\n"
          ],
          "name": "stderr"
        },
        {
          "output_type": "stream",
          "text": [
            "INFO:tensorflow:Done calling model_fn.\n"
          ],
          "name": "stdout"
        },
        {
          "output_type": "stream",
          "text": [
            "I0428 05:03:42.848488 140433646442368 estimator.py:1113] Done calling model_fn.\n"
          ],
          "name": "stderr"
        },
        {
          "output_type": "stream",
          "text": [
            "INFO:tensorflow:Starting evaluation at 2019-04-28T05:03:42Z\n"
          ],
          "name": "stdout"
        },
        {
          "output_type": "stream",
          "text": [
            "I0428 05:03:42.874494 140433646442368 evaluation.py:257] Starting evaluation at 2019-04-28T05:03:42Z\n"
          ],
          "name": "stderr"
        },
        {
          "output_type": "stream",
          "text": [
            "INFO:tensorflow:Graph was finalized.\n"
          ],
          "name": "stdout"
        },
        {
          "output_type": "stream",
          "text": [
            "I0428 05:03:43.568112 140433646442368 monitored_session.py:222] Graph was finalized.\n"
          ],
          "name": "stderr"
        },
        {
          "output_type": "stream",
          "text": [
            "INFO:tensorflow:Restoring parameters from /content/model/trained/model.ckpt-500\n"
          ],
          "name": "stdout"
        },
        {
          "output_type": "stream",
          "text": [
            "I0428 05:03:43.572433 140433646442368 saver.py:1270] Restoring parameters from /content/model/trained/model.ckpt-500\n"
          ],
          "name": "stderr"
        },
        {
          "output_type": "stream",
          "text": [
            "INFO:tensorflow:Running local_init_op.\n"
          ],
          "name": "stdout"
        },
        {
          "output_type": "stream",
          "text": [
            "I0428 05:03:44.151104 140433646442368 session_manager.py:491] Running local_init_op.\n"
          ],
          "name": "stderr"
        },
        {
          "output_type": "stream",
          "text": [
            "INFO:tensorflow:Done running local_init_op.\n"
          ],
          "name": "stdout"
        },
        {
          "output_type": "stream",
          "text": [
            "I0428 05:03:44.241649 140433646442368 session_manager.py:493] Done running local_init_op.\n"
          ],
          "name": "stderr"
        },
        {
          "output_type": "stream",
          "text": [
            "INFO:tensorflow:Finished evaluation at 2019-04-28-05:03:49\n"
          ],
          "name": "stdout"
        },
        {
          "output_type": "stream",
          "text": [
            "I0428 05:03:49.035604 140433646442368 evaluation.py:277] Finished evaluation at 2019-04-28-05:03:49\n"
          ],
          "name": "stderr"
        },
        {
          "output_type": "stream",
          "text": [
            "INFO:tensorflow:Saving dict for global step 500: acc = 0.9855, global_step = 500, loss = 0.04584631\n"
          ],
          "name": "stdout"
        },
        {
          "output_type": "stream",
          "text": [
            "I0428 05:03:49.041228 140433646442368 estimator.py:1979] Saving dict for global step 500: acc = 0.9855, global_step = 500, loss = 0.04584631\n"
          ],
          "name": "stderr"
        },
        {
          "output_type": "stream",
          "text": [
            "INFO:tensorflow:Saving 'checkpoint_path' summary for global step 500: /content/model/trained/model.ckpt-500\n"
          ],
          "name": "stdout"
        },
        {
          "output_type": "stream",
          "text": [
            "I0428 05:03:49.048054 140433646442368 estimator.py:2039] Saving 'checkpoint_path' summary for global step 500: /content/model/trained/model.ckpt-500\n"
          ],
          "name": "stderr"
        },
        {
          "output_type": "stream",
          "text": [
            "INFO:tensorflow:Loss for final step: 0.00047532393.\n"
          ],
          "name": "stdout"
        },
        {
          "output_type": "stream",
          "text": [
            "I0428 05:03:49.153717 140433646442368 estimator.py:359] Loss for final step: 0.00047532393.\n"
          ],
          "name": "stderr"
        },
        {
          "output_type": "stream",
          "text": [
            "({'acc': 0.9855, 'loss': 0.04584631, 'global_step': 500}, [])\n"
          ],
          "name": "stdout"
        }
      ]
    },
    {
      "metadata": {
        "id": "YFF7-jqoiJk7",
        "colab_type": "code",
        "colab": {}
      },
      "cell_type": "code",
      "source": [
        ""
      ],
      "execution_count": 0,
      "outputs": []
    },
    {
      "metadata": {
        "id": "rea3T7glILFw",
        "colab_type": "code",
        "colab": {}
      },
      "cell_type": "code",
      "source": [
        ""
      ],
      "execution_count": 0,
      "outputs": []
    }
  ]
}