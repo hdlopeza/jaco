{
 "cells": [
  {
   "cell_type": "code",
   "execution_count": 0,
   "metadata": {
    "colab": {},
    "colab_type": "code",
    "id": "5dNy16CirRVZ"
   },
   "outputs": [],
   "source": [
    "import numpy as np\n",
    "import scipy as sc\n",
    "import matplotlib.pyplot as plt"
   ]
  },
  {
   "cell_type": "code",
   "execution_count": 0,
   "metadata": {
    "colab": {},
    "colab_type": "code",
    "id": "_RvgJccvtJ20"
   },
   "outputs": [],
   "source": [
    "func = lambda th: np.sin(1/2 * th[0]**2 - 1/4 * th[1]**2 + 3) * np.cos(2 * th[0] + 1 - np.e**th[1])\n",
    "\n",
    "res = 100\n",
    "_X = np.linspace(-2, 2, res)\n",
    "_Y = np.linspace(-2, 2, res)\n",
    "_Z = np.zeros((res,res))\n",
    "\n",
    "for ix, x in enumerate(_X):\n",
    "  for iy, y in enumerate(_Y):\n",
    "    _Z[ix, iy] = func([x, y])\n",
    "\n",
    "# Generar un punto aleatorio en la superficie\n",
    "Theta = np.random.rand(2)*4-2\n",
    "#Theta = ([1.5, 0.5])\n",
    "\n",
    "plt.contourf(_X, _Y, _Z, 100)\n",
    "plt.colorbar()\n",
    "plt.plot(Theta[0], Theta[1], 'o', c='white')\n",
    "\n",
    "# Gradient Descent por pequeñas diferencias\n",
    "h    = 0.001\n",
    "lr   = 0.05\n",
    "grad = np.zeros(2)\n",
    "\n",
    "for _ in range(10):\n",
    "  for it, th in enumerate(Theta):\n",
    "    _T        = np.copy(Theta)\n",
    "    _T[it]   = _T[it] + h\n",
    "    deriv     = (func(_T) - func(Theta))/h\n",
    "    grad[it] = deriv\n",
    "    print('theta', Theta, 'it', it, 'th', th, '_t', _T, 'deriv', deriv, 'grad', grad[it])\n",
    "    \n",
    "  Theta = Theta - lr * grad\n",
    "  print(Theta, func(Theta))\n",
    "  \n",
    "  if(_ % 1 == 0):\n",
    "    plt.plot(Theta[0], Theta[1], '.', c='red')\n",
    "plt.plot(Theta[0], Theta[1], 'o', c='green')\n",
    "plt.show()\n",
    "Theta, func(Theta), "
   ]
  },
  {
   "cell_type": "code",
   "execution_count": 0,
   "metadata": {
    "colab": {},
    "colab_type": "code",
    "id": "LUfSFEl0zdBN"
   },
   "outputs": [],
   "source": []
  }
 ],
 "metadata": {
  "colab": {
   "collapsed_sections": [],
   "name": "Optimizacion_1_Descenso grandiente.ipynb",
   "private_outputs": true,
   "provenance": [],
   "version": "0.3.2"
  },
  "kernelspec": {
   "display_name": "Python 3",
   "language": "python",
   "name": "python3"
  },
  "language_info": {
   "codemirror_mode": {
    "name": "ipython",
    "version": 3
   },
   "file_extension": ".py",
   "mimetype": "text/x-python",
   "name": "python",
   "nbconvert_exporter": "python",
   "pygments_lexer": "ipython3",
   "version": "3.6.8"
  }
 },
 "nbformat": 4,
 "nbformat_minor": 1
}
